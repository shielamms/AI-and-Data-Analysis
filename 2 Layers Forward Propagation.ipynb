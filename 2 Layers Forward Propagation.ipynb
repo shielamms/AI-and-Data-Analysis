{
 "cells": [
  {
   "cell_type": "markdown",
   "metadata": {},
   "source": [
    "Assumptions:\n",
    "1. 1 input sample\n",
    "2. 3 features"
   ]
  },
  {
   "cell_type": "code",
   "execution_count": 1,
   "metadata": {},
   "outputs": [],
   "source": [
    "import numpy as np"
   ]
  },
  {
   "cell_type": "code",
   "execution_count": 3,
   "metadata": {},
   "outputs": [],
   "source": [
    "L0_size = 3\n",
    "L1_size = 4\n",
    "output_size = 1"
   ]
  },
  {
   "cell_type": "code",
   "execution_count": 42,
   "metadata": {},
   "outputs": [
    {
     "data": {
      "text/plain": [
       "array([[ 1.22495542],\n",
       "       [-0.43886068],\n",
       "       [ 0.18408065]])"
      ]
     },
     "execution_count": 42,
     "metadata": {},
     "output_type": "execute_result"
    }
   ],
   "source": [
    "X = np.random.randn(L0_size)\n",
    "X = X.reshape(-1, 1)\n",
    "X"
   ]
  },
  {
   "cell_type": "code",
   "execution_count": 15,
   "metadata": {},
   "outputs": [
    {
     "name": "stdout",
     "output_type": "stream",
     "text": [
      "W1:  [[0.14141755 0.23693666 0.21953128]\n",
      " [0.28512225 0.38717054 0.417407  ]\n",
      " [0.71236862 0.09460589 0.27094361]\n",
      " [0.8904505  0.00708969 0.92787579]]\n",
      "b1:  [[0.04472023]\n",
      " [0.52058776]\n",
      " [0.23462053]\n",
      " [0.71643095]]\n",
      "W2:  [[0.96169251 0.84883531 0.85594825 0.04809319]]\n",
      "b2:  [[0.1761529]]\n"
     ]
    }
   ],
   "source": [
    "# Initialize paramaters\n",
    "W1 = np.random.rand(L1_size, L0_size)\n",
    "b1 = np.random.rand(L1_size, 1)\n",
    "W2 = np.random.rand(output_size, L1_size)\n",
    "b2 = np.random.rand(output_size, 1)\n",
    "\n",
    "print('W1: ', W1)\n",
    "print('b1: ', b1)\n",
    "print('W2: ', W2)\n",
    "print('b2: ', b2)"
   ]
  },
  {
   "cell_type": "code",
   "execution_count": 58,
   "metadata": {},
   "outputs": [],
   "source": [
    "def tanh(Z):\n",
    "    return np.tanh(Z)"
   ]
  },
  {
   "cell_type": "code",
   "execution_count": 66,
   "metadata": {},
   "outputs": [],
   "source": [
    "def sigmoid(Z):\n",
    "    return (1 / (1 + np.exp(-Z)))"
   ]
  },
  {
   "cell_type": "markdown",
   "metadata": {},
   "source": [
    "### Forward Propagation"
   ]
  },
  {
   "cell_type": "code",
   "execution_count": 52,
   "metadata": {},
   "outputs": [
    {
     "data": {
      "text/plain": [
       "array([[0.14141755, 0.23693666, 0.21953128],\n",
       "       [0.28512225, 0.38717054, 0.417407  ],\n",
       "       [0.71236862, 0.09460589, 0.27094361],\n",
       "       [0.8904505 , 0.00708969, 0.92787579]])"
      ]
     },
     "execution_count": 52,
     "metadata": {},
     "output_type": "execute_result"
    }
   ],
   "source": [
    "W1"
   ]
  },
  {
   "cell_type": "code",
   "execution_count": 53,
   "metadata": {},
   "outputs": [
    {
     "data": {
      "text/plain": [
       "array([[ 1.22495542],\n",
       "       [-0.43886068],\n",
       "       [ 0.18408065]])"
      ]
     },
     "execution_count": 53,
     "metadata": {},
     "output_type": "execute_result"
    }
   ],
   "source": [
    "X"
   ]
  },
  {
   "cell_type": "code",
   "execution_count": 63,
   "metadata": {},
   "outputs": [
    {
     "data": {
      "text/plain": [
       "array([[0.1543797 ],\n",
       "       [0.77677244],\n",
       "       [1.11559701],\n",
       "       [1.97488571]])"
      ]
     },
     "execution_count": 63,
     "metadata": {},
     "output_type": "execute_result"
    }
   ],
   "source": [
    "Z1 = np.dot(W1, X) + b1\n",
    "Z1"
   ]
  },
  {
   "cell_type": "code",
   "execution_count": 64,
   "metadata": {},
   "outputs": [
    {
     "data": {
      "text/plain": [
       "array([[0.15316483],\n",
       "       [0.65085027],\n",
       "       [0.80603196],\n",
       "       [0.9622096 ]])"
      ]
     },
     "execution_count": 64,
     "metadata": {},
     "output_type": "execute_result"
    }
   ],
   "source": [
    "A1 = tanh(Z1)\n",
    "A1"
   ]
  },
  {
   "cell_type": "code",
   "execution_count": 65,
   "metadata": {},
   "outputs": [
    {
     "data": {
      "text/plain": [
       "array([[1.61211244]])"
      ]
     },
     "execution_count": 65,
     "metadata": {},
     "output_type": "execute_result"
    }
   ],
   "source": [
    "Z2 = np.dot(W2, A1) + b2\n",
    "Z2"
   ]
  },
  {
   "cell_type": "code",
   "execution_count": 67,
   "metadata": {},
   "outputs": [
    {
     "data": {
      "text/plain": [
       "array([[0.83370446]])"
      ]
     },
     "execution_count": 67,
     "metadata": {},
     "output_type": "execute_result"
    }
   ],
   "source": [
    "A2 = sigmoid(Z2)\n",
    "A2"
   ]
  }
 ],
 "metadata": {
  "kernelspec": {
   "display_name": "Python 3",
   "language": "python",
   "name": "python3"
  },
  "language_info": {
   "codemirror_mode": {
    "name": "ipython",
    "version": 3
   },
   "file_extension": ".py",
   "mimetype": "text/x-python",
   "name": "python",
   "nbconvert_exporter": "python",
   "pygments_lexer": "ipython3",
   "version": "3.7.3"
  }
 },
 "nbformat": 4,
 "nbformat_minor": 2
}
