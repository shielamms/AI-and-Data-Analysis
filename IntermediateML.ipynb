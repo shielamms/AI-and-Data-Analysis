{
  "nbformat": 4,
  "nbformat_minor": 0,
  "metadata": {
    "kernelspec": {
      "display_name": "Python 3",
      "language": "python",
      "name": "python3"
    },
    "language_info": {
      "codemirror_mode": {
        "name": "ipython",
        "version": 3
      },
      "file_extension": ".py",
      "mimetype": "text/x-python",
      "name": "python",
      "nbconvert_exporter": "python",
      "pygments_lexer": "ipython3",
      "version": "3.7.3"
    },
    "colab": {
      "name": "IntermediateML.ipynb",
      "provenance": [],
      "include_colab_link": true
    }
  },
  "cells": [
    {
      "cell_type": "markdown",
      "metadata": {
        "id": "view-in-github",
        "colab_type": "text"
      },
      "source": [
        "<a href=\"https://colab.research.google.com/github/shielamms/Machine-Learning-Notebooks/blob/master/IntermediateML.ipynb\" target=\"_parent\"><img src=\"https://colab.research.google.com/assets/colab-badge.svg\" alt=\"Open In Colab\"/></a>"
      ]
    },
    {
      "cell_type": "markdown",
      "metadata": {
        "id": "CbOVKytAFF0c",
        "colab_type": "text"
      },
      "source": [
        "# Handling Missing Values"
      ]
    },
    {
      "cell_type": "code",
      "metadata": {
        "id": "5nEXTp0TFF0f",
        "colab_type": "code",
        "colab": {}
      },
      "source": [
        "import pandas as pd\n",
        "from sklearn.model_selection import train_test_split"
      ],
      "execution_count": 0,
      "outputs": []
    },
    {
      "cell_type": "code",
      "metadata": {
        "id": "fz2D-BOKFF0h",
        "colab_type": "code",
        "colab": {}
      },
      "source": [
        "X_train_full = pd.read_csv('home-data-for-ml-course/train.csv', index_col='Id')\n",
        "X_test_full = pd.read_csv('home-data-for-ml-course/test.csv', index_col='Id')"
      ],
      "execution_count": 0,
      "outputs": []
    },
    {
      "cell_type": "code",
      "metadata": {
        "id": "wxE7vS3DFF0k",
        "colab_type": "code",
        "colab": {},
        "outputId": "8f8e9382-fc70-42f9-a387-7f741e621594"
      },
      "source": [
        "X_train_full.head(3)"
      ],
      "execution_count": 0,
      "outputs": [
        {
          "output_type": "execute_result",
          "data": {
            "text/html": [
              "<div>\n",
              "<style scoped>\n",
              "    .dataframe tbody tr th:only-of-type {\n",
              "        vertical-align: middle;\n",
              "    }\n",
              "\n",
              "    .dataframe tbody tr th {\n",
              "        vertical-align: top;\n",
              "    }\n",
              "\n",
              "    .dataframe thead th {\n",
              "        text-align: right;\n",
              "    }\n",
              "</style>\n",
              "<table border=\"1\" class=\"dataframe\">\n",
              "  <thead>\n",
              "    <tr style=\"text-align: right;\">\n",
              "      <th></th>\n",
              "      <th>MSSubClass</th>\n",
              "      <th>MSZoning</th>\n",
              "      <th>LotFrontage</th>\n",
              "      <th>LotArea</th>\n",
              "      <th>Street</th>\n",
              "      <th>Alley</th>\n",
              "      <th>LotShape</th>\n",
              "      <th>LandContour</th>\n",
              "      <th>Utilities</th>\n",
              "      <th>LotConfig</th>\n",
              "      <th>...</th>\n",
              "      <th>PoolArea</th>\n",
              "      <th>PoolQC</th>\n",
              "      <th>Fence</th>\n",
              "      <th>MiscFeature</th>\n",
              "      <th>MiscVal</th>\n",
              "      <th>MoSold</th>\n",
              "      <th>YrSold</th>\n",
              "      <th>SaleType</th>\n",
              "      <th>SaleCondition</th>\n",
              "      <th>SalePrice</th>\n",
              "    </tr>\n",
              "    <tr>\n",
              "      <th>Id</th>\n",
              "      <th></th>\n",
              "      <th></th>\n",
              "      <th></th>\n",
              "      <th></th>\n",
              "      <th></th>\n",
              "      <th></th>\n",
              "      <th></th>\n",
              "      <th></th>\n",
              "      <th></th>\n",
              "      <th></th>\n",
              "      <th></th>\n",
              "      <th></th>\n",
              "      <th></th>\n",
              "      <th></th>\n",
              "      <th></th>\n",
              "      <th></th>\n",
              "      <th></th>\n",
              "      <th></th>\n",
              "      <th></th>\n",
              "      <th></th>\n",
              "      <th></th>\n",
              "    </tr>\n",
              "  </thead>\n",
              "  <tbody>\n",
              "    <tr>\n",
              "      <th>1</th>\n",
              "      <td>60</td>\n",
              "      <td>RL</td>\n",
              "      <td>65.0</td>\n",
              "      <td>8450</td>\n",
              "      <td>Pave</td>\n",
              "      <td>NaN</td>\n",
              "      <td>Reg</td>\n",
              "      <td>Lvl</td>\n",
              "      <td>AllPub</td>\n",
              "      <td>Inside</td>\n",
              "      <td>...</td>\n",
              "      <td>0</td>\n",
              "      <td>NaN</td>\n",
              "      <td>NaN</td>\n",
              "      <td>NaN</td>\n",
              "      <td>0</td>\n",
              "      <td>2</td>\n",
              "      <td>2008</td>\n",
              "      <td>WD</td>\n",
              "      <td>Normal</td>\n",
              "      <td>208500</td>\n",
              "    </tr>\n",
              "    <tr>\n",
              "      <th>2</th>\n",
              "      <td>20</td>\n",
              "      <td>RL</td>\n",
              "      <td>80.0</td>\n",
              "      <td>9600</td>\n",
              "      <td>Pave</td>\n",
              "      <td>NaN</td>\n",
              "      <td>Reg</td>\n",
              "      <td>Lvl</td>\n",
              "      <td>AllPub</td>\n",
              "      <td>FR2</td>\n",
              "      <td>...</td>\n",
              "      <td>0</td>\n",
              "      <td>NaN</td>\n",
              "      <td>NaN</td>\n",
              "      <td>NaN</td>\n",
              "      <td>0</td>\n",
              "      <td>5</td>\n",
              "      <td>2007</td>\n",
              "      <td>WD</td>\n",
              "      <td>Normal</td>\n",
              "      <td>181500</td>\n",
              "    </tr>\n",
              "    <tr>\n",
              "      <th>3</th>\n",
              "      <td>60</td>\n",
              "      <td>RL</td>\n",
              "      <td>68.0</td>\n",
              "      <td>11250</td>\n",
              "      <td>Pave</td>\n",
              "      <td>NaN</td>\n",
              "      <td>IR1</td>\n",
              "      <td>Lvl</td>\n",
              "      <td>AllPub</td>\n",
              "      <td>Inside</td>\n",
              "      <td>...</td>\n",
              "      <td>0</td>\n",
              "      <td>NaN</td>\n",
              "      <td>NaN</td>\n",
              "      <td>NaN</td>\n",
              "      <td>0</td>\n",
              "      <td>9</td>\n",
              "      <td>2008</td>\n",
              "      <td>WD</td>\n",
              "      <td>Normal</td>\n",
              "      <td>223500</td>\n",
              "    </tr>\n",
              "  </tbody>\n",
              "</table>\n",
              "<p>3 rows × 80 columns</p>\n",
              "</div>"
            ],
            "text/plain": [
              "    MSSubClass MSZoning  LotFrontage  LotArea Street Alley LotShape  \\\n",
              "Id                                                                    \n",
              "1           60       RL         65.0     8450   Pave   NaN      Reg   \n",
              "2           20       RL         80.0     9600   Pave   NaN      Reg   \n",
              "3           60       RL         68.0    11250   Pave   NaN      IR1   \n",
              "\n",
              "   LandContour Utilities LotConfig  ... PoolArea PoolQC Fence MiscFeature  \\\n",
              "Id                                  ...                                     \n",
              "1          Lvl    AllPub    Inside  ...        0    NaN   NaN         NaN   \n",
              "2          Lvl    AllPub       FR2  ...        0    NaN   NaN         NaN   \n",
              "3          Lvl    AllPub    Inside  ...        0    NaN   NaN         NaN   \n",
              "\n",
              "   MiscVal MoSold  YrSold  SaleType  SaleCondition  SalePrice  \n",
              "Id                                                             \n",
              "1        0      2    2008        WD         Normal     208500  \n",
              "2        0      5    2007        WD         Normal     181500  \n",
              "3        0      9    2008        WD         Normal     223500  \n",
              "\n",
              "[3 rows x 80 columns]"
            ]
          },
          "metadata": {
            "tags": []
          },
          "execution_count": 3
        }
      ]
    },
    {
      "cell_type": "code",
      "metadata": {
        "id": "UBOaafNvFF0m",
        "colab_type": "code",
        "colab": {}
      },
      "source": [
        "# Remove data with blank SalePrice\n",
        "X_train_full.dropna(axis=0, subset=['SalePrice'], inplace=True)\n",
        "y = X_train_full['SalePrice']\n",
        "X_train_full.drop(['SalePrice'], axis=1, inplace=True)\n",
        "\n",
        "X = X_train_full.select_dtypes(exclude=['object'])\n",
        "X_test = X_test_full.select_dtypes(exclude=['object'])"
      ],
      "execution_count": 0,
      "outputs": []
    },
    {
      "cell_type": "code",
      "metadata": {
        "id": "eNe_9oIkFF0o",
        "colab_type": "code",
        "colab": {}
      },
      "source": [
        "X_train, X_valid, y_train, y_valid = train_test_split(X, y, train_size=0.8, test_size=0.2, random_state=0)"
      ],
      "execution_count": 0,
      "outputs": []
    },
    {
      "cell_type": "code",
      "metadata": {
        "id": "e_bqqLMIFF0q",
        "colab_type": "code",
        "colab": {},
        "outputId": "8ed32616-3188-47e4-b221-9c3e7afca276"
      },
      "source": [
        "X_train.head()"
      ],
      "execution_count": 0,
      "outputs": [
        {
          "output_type": "execute_result",
          "data": {
            "text/html": [
              "<div>\n",
              "<style scoped>\n",
              "    .dataframe tbody tr th:only-of-type {\n",
              "        vertical-align: middle;\n",
              "    }\n",
              "\n",
              "    .dataframe tbody tr th {\n",
              "        vertical-align: top;\n",
              "    }\n",
              "\n",
              "    .dataframe thead th {\n",
              "        text-align: right;\n",
              "    }\n",
              "</style>\n",
              "<table border=\"1\" class=\"dataframe\">\n",
              "  <thead>\n",
              "    <tr style=\"text-align: right;\">\n",
              "      <th></th>\n",
              "      <th>MSSubClass</th>\n",
              "      <th>LotFrontage</th>\n",
              "      <th>LotArea</th>\n",
              "      <th>OverallQual</th>\n",
              "      <th>OverallCond</th>\n",
              "      <th>YearBuilt</th>\n",
              "      <th>YearRemodAdd</th>\n",
              "      <th>MasVnrArea</th>\n",
              "      <th>BsmtFinSF1</th>\n",
              "      <th>BsmtFinSF2</th>\n",
              "      <th>...</th>\n",
              "      <th>GarageArea</th>\n",
              "      <th>WoodDeckSF</th>\n",
              "      <th>OpenPorchSF</th>\n",
              "      <th>EnclosedPorch</th>\n",
              "      <th>3SsnPorch</th>\n",
              "      <th>ScreenPorch</th>\n",
              "      <th>PoolArea</th>\n",
              "      <th>MiscVal</th>\n",
              "      <th>MoSold</th>\n",
              "      <th>YrSold</th>\n",
              "    </tr>\n",
              "    <tr>\n",
              "      <th>Id</th>\n",
              "      <th></th>\n",
              "      <th></th>\n",
              "      <th></th>\n",
              "      <th></th>\n",
              "      <th></th>\n",
              "      <th></th>\n",
              "      <th></th>\n",
              "      <th></th>\n",
              "      <th></th>\n",
              "      <th></th>\n",
              "      <th></th>\n",
              "      <th></th>\n",
              "      <th></th>\n",
              "      <th></th>\n",
              "      <th></th>\n",
              "      <th></th>\n",
              "      <th></th>\n",
              "      <th></th>\n",
              "      <th></th>\n",
              "      <th></th>\n",
              "      <th></th>\n",
              "    </tr>\n",
              "  </thead>\n",
              "  <tbody>\n",
              "    <tr>\n",
              "      <th>619</th>\n",
              "      <td>20</td>\n",
              "      <td>90.0</td>\n",
              "      <td>11694</td>\n",
              "      <td>9</td>\n",
              "      <td>5</td>\n",
              "      <td>2007</td>\n",
              "      <td>2007</td>\n",
              "      <td>452.0</td>\n",
              "      <td>48</td>\n",
              "      <td>0</td>\n",
              "      <td>...</td>\n",
              "      <td>774</td>\n",
              "      <td>0</td>\n",
              "      <td>108</td>\n",
              "      <td>0</td>\n",
              "      <td>0</td>\n",
              "      <td>260</td>\n",
              "      <td>0</td>\n",
              "      <td>0</td>\n",
              "      <td>7</td>\n",
              "      <td>2007</td>\n",
              "    </tr>\n",
              "    <tr>\n",
              "      <th>871</th>\n",
              "      <td>20</td>\n",
              "      <td>60.0</td>\n",
              "      <td>6600</td>\n",
              "      <td>5</td>\n",
              "      <td>5</td>\n",
              "      <td>1962</td>\n",
              "      <td>1962</td>\n",
              "      <td>0.0</td>\n",
              "      <td>0</td>\n",
              "      <td>0</td>\n",
              "      <td>...</td>\n",
              "      <td>308</td>\n",
              "      <td>0</td>\n",
              "      <td>0</td>\n",
              "      <td>0</td>\n",
              "      <td>0</td>\n",
              "      <td>0</td>\n",
              "      <td>0</td>\n",
              "      <td>0</td>\n",
              "      <td>8</td>\n",
              "      <td>2009</td>\n",
              "    </tr>\n",
              "    <tr>\n",
              "      <th>93</th>\n",
              "      <td>30</td>\n",
              "      <td>80.0</td>\n",
              "      <td>13360</td>\n",
              "      <td>5</td>\n",
              "      <td>7</td>\n",
              "      <td>1921</td>\n",
              "      <td>2006</td>\n",
              "      <td>0.0</td>\n",
              "      <td>713</td>\n",
              "      <td>0</td>\n",
              "      <td>...</td>\n",
              "      <td>432</td>\n",
              "      <td>0</td>\n",
              "      <td>0</td>\n",
              "      <td>44</td>\n",
              "      <td>0</td>\n",
              "      <td>0</td>\n",
              "      <td>0</td>\n",
              "      <td>0</td>\n",
              "      <td>8</td>\n",
              "      <td>2009</td>\n",
              "    </tr>\n",
              "    <tr>\n",
              "      <th>818</th>\n",
              "      <td>20</td>\n",
              "      <td>NaN</td>\n",
              "      <td>13265</td>\n",
              "      <td>8</td>\n",
              "      <td>5</td>\n",
              "      <td>2002</td>\n",
              "      <td>2002</td>\n",
              "      <td>148.0</td>\n",
              "      <td>1218</td>\n",
              "      <td>0</td>\n",
              "      <td>...</td>\n",
              "      <td>857</td>\n",
              "      <td>150</td>\n",
              "      <td>59</td>\n",
              "      <td>0</td>\n",
              "      <td>0</td>\n",
              "      <td>0</td>\n",
              "      <td>0</td>\n",
              "      <td>0</td>\n",
              "      <td>7</td>\n",
              "      <td>2008</td>\n",
              "    </tr>\n",
              "    <tr>\n",
              "      <th>303</th>\n",
              "      <td>20</td>\n",
              "      <td>118.0</td>\n",
              "      <td>13704</td>\n",
              "      <td>7</td>\n",
              "      <td>5</td>\n",
              "      <td>2001</td>\n",
              "      <td>2002</td>\n",
              "      <td>150.0</td>\n",
              "      <td>0</td>\n",
              "      <td>0</td>\n",
              "      <td>...</td>\n",
              "      <td>843</td>\n",
              "      <td>468</td>\n",
              "      <td>81</td>\n",
              "      <td>0</td>\n",
              "      <td>0</td>\n",
              "      <td>0</td>\n",
              "      <td>0</td>\n",
              "      <td>0</td>\n",
              "      <td>1</td>\n",
              "      <td>2006</td>\n",
              "    </tr>\n",
              "  </tbody>\n",
              "</table>\n",
              "<p>5 rows × 36 columns</p>\n",
              "</div>"
            ],
            "text/plain": [
              "     MSSubClass  LotFrontage  LotArea  OverallQual  OverallCond  YearBuilt  \\\n",
              "Id                                                                           \n",
              "619          20         90.0    11694            9            5       2007   \n",
              "871          20         60.0     6600            5            5       1962   \n",
              "93           30         80.0    13360            5            7       1921   \n",
              "818          20          NaN    13265            8            5       2002   \n",
              "303          20        118.0    13704            7            5       2001   \n",
              "\n",
              "     YearRemodAdd  MasVnrArea  BsmtFinSF1  BsmtFinSF2  ...  GarageArea  \\\n",
              "Id                                                     ...               \n",
              "619          2007       452.0          48           0  ...         774   \n",
              "871          1962         0.0           0           0  ...         308   \n",
              "93           2006         0.0         713           0  ...         432   \n",
              "818          2002       148.0        1218           0  ...         857   \n",
              "303          2002       150.0           0           0  ...         843   \n",
              "\n",
              "     WoodDeckSF  OpenPorchSF  EnclosedPorch  3SsnPorch  ScreenPorch  PoolArea  \\\n",
              "Id                                                                              \n",
              "619           0          108              0          0          260         0   \n",
              "871           0            0              0          0            0         0   \n",
              "93            0            0             44          0            0         0   \n",
              "818         150           59              0          0            0         0   \n",
              "303         468           81              0          0            0         0   \n",
              "\n",
              "     MiscVal  MoSold  YrSold  \n",
              "Id                            \n",
              "619        0       7    2007  \n",
              "871        0       8    2009  \n",
              "93         0       8    2009  \n",
              "818        0       7    2008  \n",
              "303        0       1    2006  \n",
              "\n",
              "[5 rows x 36 columns]"
            ]
          },
          "metadata": {
            "tags": []
          },
          "execution_count": 6
        }
      ]
    },
    {
      "cell_type": "code",
      "metadata": {
        "id": "pYZaZbCFFF0s",
        "colab_type": "code",
        "colab": {},
        "outputId": "18a2cc03-c6ac-41e0-c06d-873d64aed178"
      },
      "source": [
        "missing_val_count_by_column = (X_train.isnull().sum())\n",
        "print(missing_val_count_by_column[missing_val_count_by_column > 0])"
      ],
      "execution_count": 0,
      "outputs": [
        {
          "output_type": "stream",
          "text": [
            "LotFrontage    212\n",
            "MasVnrArea       6\n",
            "GarageYrBlt     58\n",
            "dtype: int64\n"
          ],
          "name": "stdout"
        }
      ]
    },
    {
      "cell_type": "code",
      "metadata": {
        "id": "LvS6mw58FF0u",
        "colab_type": "code",
        "colab": {}
      },
      "source": [
        "from sklearn.ensemble import RandomForestRegressor\n",
        "from sklearn.metrics import mean_absolute_error\n",
        "\n",
        "def score_dataset(X_train, X_valid, y_train, y_valid):\n",
        "    model = RandomForestRegressor(n_estimators=100, random_state=0)\n",
        "    model.fit(X_train, y_train)\n",
        "    preds = model.predict(X_valid)\n",
        "    return mean_absolute_error(y_valid, preds)"
      ],
      "execution_count": 0,
      "outputs": []
    },
    {
      "cell_type": "code",
      "metadata": {
        "id": "DzUqOU8YFF0w",
        "colab_type": "code",
        "colab": {},
        "outputId": "02b151a7-992e-467b-9a45-d1351cb9f200"
      },
      "source": [
        "# Method 1: Dropping columns\n",
        "cols_with_missing_values = [col for col in X_train.columns\n",
        "                           if X_train[col].isnull().any()]\n",
        "\n",
        "reduced_X_train = X_train.drop(cols_with_missing_values, axis=1)\n",
        "reduced_X_valid = X_valid.drop(cols_with_missing_values, axis=1)\n",
        "\n",
        "drop_score = score_dataset(reduced_X_train, reduced_X_valid, y_train, y_valid)\n",
        "drop_score"
      ],
      "execution_count": 0,
      "outputs": [
        {
          "output_type": "execute_result",
          "data": {
            "text/plain": [
              "17837.82570776256"
            ]
          },
          "metadata": {
            "tags": []
          },
          "execution_count": 9
        }
      ]
    },
    {
      "cell_type": "code",
      "metadata": {
        "id": "eItRNx7xFF0y",
        "colab_type": "code",
        "colab": {},
        "outputId": "e48a8e2f-e9bb-48ac-c3b1-3e35ff11d776"
      },
      "source": [
        "# Method 2: Imputation\n",
        "from sklearn.impute import SimpleImputer\n",
        "\n",
        "imputer = SimpleImputer()\n",
        "\n",
        "X_train_imputed = pd.DataFrame(imputer.fit_transform(X_train))\n",
        "X_valid_imputed = pd.DataFrame(imputer.transform(X_valid))\n",
        "\n",
        "X_train_imputed.columns = X_train.columns\n",
        "X_valid_imputed.columns = X_valid.columns\n",
        "\n",
        "impute_score = score_dataset(X_train_imputed, X_valid_imputed, y_train, y_valid)\n",
        "impute_score"
      ],
      "execution_count": 0,
      "outputs": [
        {
          "output_type": "execute_result",
          "data": {
            "text/plain": [
              "18062.894611872147"
            ]
          },
          "metadata": {
            "tags": []
          },
          "execution_count": 10
        }
      ]
    },
    {
      "cell_type": "code",
      "metadata": {
        "id": "aY1RBgvGFF00",
        "colab_type": "code",
        "colab": {},
        "outputId": "53bfd266-2921-4e9e-9e86-3828890a6bc3"
      },
      "source": [
        "# Decision: Use imputation\n",
        "final_imputer = SimpleImputer(strategy='median')\n",
        "\n",
        "final_X_train = pd.DataFrame(final_imputer.fit_transform(X_train))\n",
        "final_X_valid = pd.DataFrame(final_imputer.transform(X_valid))\n",
        "\n",
        "final_X_train.columns = X_train.columns\n",
        "final_X_valid.columns = X_valid.columns\n",
        "\n",
        "model = RandomForestRegressor(n_estimators=100, random_state=0)\n",
        "model.fit(final_X_train, y_train)\n",
        "\n",
        "predictions_valid = model.predict(final_X_valid)\n",
        "print(mean_absolute_error(y_valid, predictions_valid))"
      ],
      "execution_count": 0,
      "outputs": [
        {
          "output_type": "stream",
          "text": [
            "17791.59899543379\n"
          ],
          "name": "stdout"
        }
      ]
    },
    {
      "cell_type": "code",
      "metadata": {
        "id": "olX42HIrFF03",
        "colab_type": "code",
        "colab": {},
        "outputId": "a51003dc-5ded-4b8c-f42e-d5a4550c1648"
      },
      "source": [
        "# Test the model on the test data\n",
        "final_X_test = pd.DataFrame(final_imputer.transform(X_test))\n",
        "final_X_test.columns = X_test.columns\n",
        "\n",
        "test_predictions = model.predict(final_X_test)\n",
        "test_predictions"
      ],
      "execution_count": 0,
      "outputs": [
        {
          "output_type": "execute_result",
          "data": {
            "text/plain": [
              "array([125985.5 , 154599.5 , 180070.24, ..., 154751.44, 107387.  ,\n",
              "       229281.55])"
            ]
          },
          "metadata": {
            "tags": []
          },
          "execution_count": 24
        }
      ]
    },
    {
      "cell_type": "code",
      "metadata": {
        "id": "C6SNOmIlFF05",
        "colab_type": "code",
        "colab": {}
      },
      "source": [
        "# Output predictions\n",
        "output = pd.DataFrame({'Id': final_X_test.index,\n",
        "                     'SalePrice': test_predictions})\n",
        "output.to_csv('submission.csv', index=False)"
      ],
      "execution_count": 0,
      "outputs": []
    },
    {
      "cell_type": "code",
      "metadata": {
        "id": "L_OgEA8xFF07",
        "colab_type": "code",
        "colab": {}
      },
      "source": [
        ""
      ],
      "execution_count": 0,
      "outputs": []
    }
  ]
}