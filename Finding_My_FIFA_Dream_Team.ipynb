{
  "nbformat": 4,
  "nbformat_minor": 0,
  "metadata": {
    "colab": {
      "name": "Finding My FIFA Dream Team.ipynb",
      "provenance": [],
      "collapsed_sections": [],
      "authorship_tag": "ABX9TyMsMHd6Dcv1Yu+w6WGL/qvl",
      "include_colab_link": true
    },
    "kernelspec": {
      "name": "python3",
      "display_name": "Python 3"
    }
  },
  "cells": [
    {
      "cell_type": "markdown",
      "metadata": {
        "id": "view-in-github",
        "colab_type": "text"
      },
      "source": [
        "<a href=\"https://colab.research.google.com/github/shielamms/AI-and-Data-Analysis/blob/master/Finding_My_FIFA_Dream_Team.ipynb\" target=\"_parent\"><img src=\"https://colab.research.google.com/assets/colab-badge.svg\" alt=\"Open In Colab\"/></a>"
      ]
    },
    {
      "cell_type": "markdown",
      "metadata": {
        "id": "n4Z_oflUhvp1",
        "colab_type": "text"
      },
      "source": [
        "# **My FIFA 2020 Dream Team**\n",
        "Notebook written by Shiela Sandoval"
      ]
    },
    {
      "cell_type": "markdown",
      "metadata": {
        "id": "VsiKs4lHh314",
        "colab_type": "text"
      },
      "source": [
        "##### Given the [Kaggle FIFA 20 complete player dataset](https://www.kaggle.com/stefanoleone992/fifa-20-complete-player-dataset?select=players_20.csv), I'm putting together a notebook for analyzing the personal and professional data of football players all over the world, with the goal of forming my Dream Team consisting of the best players in each position.\n",
        "---"
      ]
    },
    {
      "cell_type": "code",
      "metadata": {
        "id": "66miqt5NZBCN",
        "colab_type": "code",
        "colab": {}
      },
      "source": [
        "import warnings\n",
        "warnings.filterwarnings('ignore')"
      ],
      "execution_count": 2,
      "outputs": []
    },
    {
      "cell_type": "markdown",
      "metadata": {
        "id": "VlLPYwwTkA7Q",
        "colab_type": "text"
      },
      "source": [
        "### **Getting the Data**"
      ]
    },
    {
      "cell_type": "code",
      "metadata": {
        "id": "fh9L6x7mPxv0",
        "colab_type": "code",
        "colab": {}
      },
      "source": [
        "import pandas as pd\n",
        "import matplotlib.pyplot as plt\n",
        "import io\n",
        "import numpy as np\n",
        "import re\n",
        "import seaborn as sns"
      ],
      "execution_count": 3,
      "outputs": []
    },
    {
      "cell_type": "code",
      "metadata": {
        "id": "27VxPWWsPg2k",
        "colab_type": "code",
        "colab": {
          "resources": {
            "http://localhost:8080/nbextensions/google.colab/files.js": {
              "data": "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",
              "ok": true,
              "headers": [
                [
                  "content-type",
                  "application/javascript"
                ]
              ],
              "status": 200,
              "status_text": ""
            }
          },
          "base_uri": "https://localhost:8080/",
          "height": 73
        },
        "outputId": "d05a11af-504d-4987-f0cd-09b7c745de26"
      },
      "source": [
        "from google.colab import files\n",
        "\n",
        "uploaded = files.upload()"
      ],
      "execution_count": 4,
      "outputs": [
        {
          "output_type": "display_data",
          "data": {
            "text/html": [
              "\n",
              "     <input type=\"file\" id=\"files-ebc6617a-fb19-4496-afa8-c896f99171c9\" name=\"files[]\" multiple disabled\n",
              "        style=\"border:none\" />\n",
              "     <output id=\"result-ebc6617a-fb19-4496-afa8-c896f99171c9\">\n",
              "      Upload widget is only available when the cell has been executed in the\n",
              "      current browser session. Please rerun this cell to enable.\n",
              "      </output>\n",
              "      <script src=\"/nbextensions/google.colab/files.js\"></script> "
            ],
            "text/plain": [
              "<IPython.core.display.HTML object>"
            ]
          },
          "metadata": {
            "tags": []
          }
        },
        {
          "output_type": "stream",
          "text": [
            "Saving players_20.csv to players_20.csv\n"
          ],
          "name": "stdout"
        }
      ]
    },
    {
      "cell_type": "code",
      "metadata": {
        "id": "ZjXbj-8KPu3A",
        "colab_type": "code",
        "colab": {}
      },
      "source": [
        "df = pd.read_csv(io.BytesIO(uploaded['players_20.csv']))"
      ],
      "execution_count": 5,
      "outputs": []
    },
    {
      "cell_type": "code",
      "metadata": {
        "id": "M565Qy-pQHsN",
        "colab_type": "code",
        "colab": {
          "base_uri": "https://localhost:8080/",
          "height": 104
        },
        "outputId": "c9a47f9e-055f-4350-f6ab-dff770042eac"
      },
      "source": [
        "df.info()"
      ],
      "execution_count": 6,
      "outputs": [
        {
          "output_type": "stream",
          "text": [
            "<class 'pandas.core.frame.DataFrame'>\n",
            "RangeIndex: 18278 entries, 0 to 18277\n",
            "Columns: 104 entries, sofifa_id to rb\n",
            "dtypes: float64(16), int64(45), object(43)\n",
            "memory usage: 14.5+ MB\n"
          ],
          "name": "stdout"
        }
      ]
    },
    {
      "cell_type": "markdown",
      "metadata": {
        "id": "5v1QVoANlDAk",
        "colab_type": "text"
      },
      "source": [
        "So we have 18,278 players and 104 features."
      ]
    },
    {
      "cell_type": "markdown",
      "metadata": {
        "id": "l_qVp7nDln5B",
        "colab_type": "text"
      },
      "source": [
        "### **Contents**"
      ]
    },
    {
      "cell_type": "markdown",
      "metadata": {
        "id": "34PPUsqBlv-p",
        "colab_type": "text"
      },
      "source": [
        "```\n",
        "Data Preprocessing\n",
        "  > Selecting relevant features\n",
        "  > Transforming features\n",
        "  > Handling missing values\n",
        "Visualizations\n",
        "  > Nationality\n",
        "    > Nationality statistics\n",
        "    > Overall score by nationality\n",
        "  > Age\n",
        "    > Youngest players\n",
        "    > Oldest players\n",
        "  > Top-paying Players\n",
        "    > In the world\n",
        "    > Per specific country\n",
        "  > Top Players by Overall Rating\n",
        "  > Top Players by Position\n",
        "\n",
        "```"
      ]
    },
    {
      "cell_type": "markdown",
      "metadata": {
        "id": "qqws77UeJn3M",
        "colab_type": "text"
      },
      "source": [
        "### **Data Preprocessing**"
      ]
    },
    {
      "cell_type": "markdown",
      "metadata": {
        "id": "WBSJJ8s3J97Q",
        "colab_type": "text"
      },
      "source": [
        "##### **Selecting Relevant Features**"
      ]
    },
    {
      "cell_type": "markdown",
      "metadata": {
        "id": "1CXWflEPf4YA",
        "colab_type": "text"
      },
      "source": [
        "There are 104 features to choose from, so it might be too time-consuming to look at inidivual features. To at least make the 104 features easier to digest, we'll start by looking at the numeric features first, and then at the features of type 'object' (i.e, strings)."
      ]
    },
    {
      "cell_type": "code",
      "metadata": {
        "id": "MQjOyZk3JsIa",
        "colab_type": "code",
        "colab": {
          "base_uri": "https://localhost:8080/",
          "height": 364
        },
        "outputId": "2f304414-e068-4b49-e528-5832ea207dff"
      },
      "source": [
        "numerics = df.select_dtypes(exclude=['object'])\n",
        "numerics.columns.to_list"
      ],
      "execution_count": 7,
      "outputs": [
        {
          "output_type": "execute_result",
          "data": {
            "text/plain": [
              "<bound method IndexOpsMixin.tolist of Index(['sofifa_id', 'age', 'height_cm', 'weight_kg', 'overall', 'potential',\n",
              "       'value_eur', 'wage_eur', 'international_reputation', 'weak_foot',\n",
              "       'skill_moves', 'release_clause_eur', 'team_jersey_number',\n",
              "       'contract_valid_until', 'nation_jersey_number', 'pace', 'shooting',\n",
              "       'passing', 'dribbling', 'defending', 'physic', 'gk_diving',\n",
              "       'gk_handling', 'gk_kicking', 'gk_reflexes', 'gk_speed',\n",
              "       'gk_positioning', 'attacking_crossing', 'attacking_finishing',\n",
              "       'attacking_heading_accuracy', 'attacking_short_passing',\n",
              "       'attacking_volleys', 'skill_dribbling', 'skill_curve',\n",
              "       'skill_fk_accuracy', 'skill_long_passing', 'skill_ball_control',\n",
              "       'movement_acceleration', 'movement_sprint_speed', 'movement_agility',\n",
              "       'movement_reactions', 'movement_balance', 'power_shot_power',\n",
              "       'power_jumping', 'power_stamina', 'power_strength', 'power_long_shots',\n",
              "       'mentality_aggression', 'mentality_interceptions',\n",
              "       'mentality_positioning', 'mentality_vision', 'mentality_penalties',\n",
              "       'mentality_composure', 'defending_marking', 'defending_standing_tackle',\n",
              "       'defending_sliding_tackle', 'goalkeeping_diving',\n",
              "       'goalkeeping_handling', 'goalkeeping_kicking',\n",
              "       'goalkeeping_positioning', 'goalkeeping_reflexes'],\n",
              "      dtype='object')>"
            ]
          },
          "metadata": {
            "tags": []
          },
          "execution_count": 7
        }
      ]
    },
    {
      "cell_type": "code",
      "metadata": {
        "id": "hsWkdbUNNi6S",
        "colab_type": "code",
        "colab": {
          "base_uri": "https://localhost:8080/",
          "height": 139
        },
        "outputId": "b09006b0-b116-40bc-fa64-6a14f1bef61d"
      },
      "source": [
        "objs = df.select_dtypes(include=['object'])\n",
        "objs.columns"
      ],
      "execution_count": 8,
      "outputs": [
        {
          "output_type": "execute_result",
          "data": {
            "text/plain": [
              "Index(['player_url', 'short_name', 'long_name', 'dob', 'nationality', 'club',\n",
              "       'player_positions', 'preferred_foot', 'work_rate', 'body_type',\n",
              "       'real_face', 'player_tags', 'team_position', 'loaned_from', 'joined',\n",
              "       'nation_position', 'player_traits', 'ls', 'st', 'rs', 'lw', 'lf', 'cf',\n",
              "       'rf', 'rw', 'lam', 'cam', 'ram', 'lm', 'lcm', 'cm', 'rcm', 'rm', 'lwb',\n",
              "       'ldm', 'cdm', 'rdm', 'rwb', 'lb', 'lcb', 'cb', 'rcb', 'rb'],\n",
              "      dtype='object')"
            ]
          },
          "metadata": {
            "tags": []
          },
          "execution_count": 8
        }
      ]
    },
    {
      "cell_type": "markdown",
      "metadata": {
        "id": "Cm2fJ8XxhDw3",
        "colab_type": "text"
      },
      "source": [
        "Once we've divided the features into smaller groups, we can hand-pick the features we want to analyze."
      ]
    },
    {
      "cell_type": "code",
      "metadata": {
        "id": "ey8mmcXDrcr2",
        "colab_type": "code",
        "colab": {}
      },
      "source": [
        "numeric_features = ['age', 'height_cm', 'weight_kg', 'overall', 'potential', 'value_eur', 'wage_eur']"
      ],
      "execution_count": 9,
      "outputs": []
    },
    {
      "cell_type": "code",
      "metadata": {
        "id": "7jsPAvJRKPri",
        "colab_type": "code",
        "colab": {}
      },
      "source": [
        "attacking_features = ['attacking_crossing', 'attacking_finishing', 'attacking_heading_accuracy', 'attacking_short_passing', 'attacking_volleys']\n",
        "skill_features = ['skill_dribbling', 'skill_curve', 'skill_fk_accuracy', 'skill_long_passing', 'skill_ball_control']\n",
        "movement_features = ['movement_acceleration', 'movement_sprint_speed', 'movement_agility', 'movement_reactions', 'movement_balance']\n",
        "power_features = ['power_shot_power', 'power_jumping', 'power_stamina', 'power_strength', 'power_long_shots']\n",
        "mentality_features = ['mentality_aggression', 'mentality_interceptions', 'mentality_positioning', 'mentality_vision', 'mentality_penalties', 'mentality_composure']\n",
        "defending_features = ['defending_marking', 'defending_standing_tackle', 'defending_sliding_tackle']\n",
        "goalkeeping_features = ['goalkeeping_diving', 'goalkeeping_handling', 'goalkeeping_kicking', 'goalkeeping_positioning', 'goalkeeping_reflexes']"
      ],
      "execution_count": 10,
      "outputs": []
    },
    {
      "cell_type": "code",
      "metadata": {
        "id": "F_mqn9BMqhUF",
        "colab_type": "code",
        "colab": {}
      },
      "source": [
        "position_score_features = ['ls', 'st', 'rs', 'lw', 'lf', 'cf',\n",
        "       'rf', 'rw', 'lam', 'cam', 'ram', 'lm', 'lcm', 'cm', 'rcm', 'rm', 'lwb',\n",
        "       'ldm', 'cdm', 'rdm', 'rwb', 'lb', 'lcb', 'cb', 'rcb', 'rb']"
      ],
      "execution_count": 11,
      "outputs": []
    },
    {
      "cell_type": "code",
      "metadata": {
        "id": "R4xwfuX7qov7",
        "colab_type": "code",
        "colab": {}
      },
      "source": [
        "personal_features = ['short_name', 'nationality', 'club', 'player_positions', 'team_position', 'preferred_foot']"
      ],
      "execution_count": 12,
      "outputs": []
    },
    {
      "cell_type": "code",
      "metadata": {
        "id": "Q7YhecIPu8jl",
        "colab_type": "code",
        "colab": {
          "base_uri": "https://localhost:8080/",
          "height": 326
        },
        "outputId": "fec6ad5d-86ac-4ded-a532-7106807f075a"
      },
      "source": [
        "data = df[personal_features + numeric_features + attacking_features + skill_features + movement_features + power_features\n",
        "          + mentality_features + defending_features + goalkeeping_features + position_score_features]\n",
        "data.head()"
      ],
      "execution_count": 13,
      "outputs": [
        {
          "output_type": "execute_result",
          "data": {
            "text/html": [
              "<div>\n",
              "<style scoped>\n",
              "    .dataframe tbody tr th:only-of-type {\n",
              "        vertical-align: middle;\n",
              "    }\n",
              "\n",
              "    .dataframe tbody tr th {\n",
              "        vertical-align: top;\n",
              "    }\n",
              "\n",
              "    .dataframe thead th {\n",
              "        text-align: right;\n",
              "    }\n",
              "</style>\n",
              "<table border=\"1\" class=\"dataframe\">\n",
              "  <thead>\n",
              "    <tr style=\"text-align: right;\">\n",
              "      <th></th>\n",
              "      <th>short_name</th>\n",
              "      <th>nationality</th>\n",
              "      <th>club</th>\n",
              "      <th>player_positions</th>\n",
              "      <th>team_position</th>\n",
              "      <th>preferred_foot</th>\n",
              "      <th>age</th>\n",
              "      <th>height_cm</th>\n",
              "      <th>weight_kg</th>\n",
              "      <th>overall</th>\n",
              "      <th>potential</th>\n",
              "      <th>value_eur</th>\n",
              "      <th>wage_eur</th>\n",
              "      <th>attacking_crossing</th>\n",
              "      <th>attacking_finishing</th>\n",
              "      <th>attacking_heading_accuracy</th>\n",
              "      <th>attacking_short_passing</th>\n",
              "      <th>attacking_volleys</th>\n",
              "      <th>skill_dribbling</th>\n",
              "      <th>skill_curve</th>\n",
              "      <th>skill_fk_accuracy</th>\n",
              "      <th>skill_long_passing</th>\n",
              "      <th>skill_ball_control</th>\n",
              "      <th>movement_acceleration</th>\n",
              "      <th>movement_sprint_speed</th>\n",
              "      <th>movement_agility</th>\n",
              "      <th>movement_reactions</th>\n",
              "      <th>movement_balance</th>\n",
              "      <th>power_shot_power</th>\n",
              "      <th>power_jumping</th>\n",
              "      <th>power_stamina</th>\n",
              "      <th>power_strength</th>\n",
              "      <th>power_long_shots</th>\n",
              "      <th>mentality_aggression</th>\n",
              "      <th>mentality_interceptions</th>\n",
              "      <th>mentality_positioning</th>\n",
              "      <th>mentality_vision</th>\n",
              "      <th>mentality_penalties</th>\n",
              "      <th>mentality_composure</th>\n",
              "      <th>defending_marking</th>\n",
              "      <th>defending_standing_tackle</th>\n",
              "      <th>defending_sliding_tackle</th>\n",
              "      <th>goalkeeping_diving</th>\n",
              "      <th>goalkeeping_handling</th>\n",
              "      <th>goalkeeping_kicking</th>\n",
              "      <th>goalkeeping_positioning</th>\n",
              "      <th>goalkeeping_reflexes</th>\n",
              "      <th>ls</th>\n",
              "      <th>st</th>\n",
              "      <th>rs</th>\n",
              "      <th>lw</th>\n",
              "      <th>lf</th>\n",
              "      <th>cf</th>\n",
              "      <th>rf</th>\n",
              "      <th>rw</th>\n",
              "      <th>lam</th>\n",
              "      <th>cam</th>\n",
              "      <th>ram</th>\n",
              "      <th>lm</th>\n",
              "      <th>lcm</th>\n",
              "      <th>cm</th>\n",
              "      <th>rcm</th>\n",
              "      <th>rm</th>\n",
              "      <th>lwb</th>\n",
              "      <th>ldm</th>\n",
              "      <th>cdm</th>\n",
              "      <th>rdm</th>\n",
              "      <th>rwb</th>\n",
              "      <th>lb</th>\n",
              "      <th>lcb</th>\n",
              "      <th>cb</th>\n",
              "      <th>rcb</th>\n",
              "      <th>rb</th>\n",
              "    </tr>\n",
              "  </thead>\n",
              "  <tbody>\n",
              "    <tr>\n",
              "      <th>0</th>\n",
              "      <td>L. Messi</td>\n",
              "      <td>Argentina</td>\n",
              "      <td>FC Barcelona</td>\n",
              "      <td>RW, CF, ST</td>\n",
              "      <td>RW</td>\n",
              "      <td>Left</td>\n",
              "      <td>32</td>\n",
              "      <td>170</td>\n",
              "      <td>72</td>\n",
              "      <td>94</td>\n",
              "      <td>94</td>\n",
              "      <td>95500000</td>\n",
              "      <td>565000</td>\n",
              "      <td>88</td>\n",
              "      <td>95</td>\n",
              "      <td>70</td>\n",
              "      <td>92</td>\n",
              "      <td>88</td>\n",
              "      <td>97</td>\n",
              "      <td>93</td>\n",
              "      <td>94</td>\n",
              "      <td>92</td>\n",
              "      <td>96</td>\n",
              "      <td>91</td>\n",
              "      <td>84</td>\n",
              "      <td>93</td>\n",
              "      <td>95</td>\n",
              "      <td>95</td>\n",
              "      <td>86</td>\n",
              "      <td>68</td>\n",
              "      <td>75</td>\n",
              "      <td>68</td>\n",
              "      <td>94</td>\n",
              "      <td>48</td>\n",
              "      <td>40</td>\n",
              "      <td>94</td>\n",
              "      <td>94</td>\n",
              "      <td>75</td>\n",
              "      <td>96</td>\n",
              "      <td>33</td>\n",
              "      <td>37</td>\n",
              "      <td>26</td>\n",
              "      <td>6</td>\n",
              "      <td>11</td>\n",
              "      <td>15</td>\n",
              "      <td>14</td>\n",
              "      <td>8</td>\n",
              "      <td>89+2</td>\n",
              "      <td>89+2</td>\n",
              "      <td>89+2</td>\n",
              "      <td>93+2</td>\n",
              "      <td>93+2</td>\n",
              "      <td>93+2</td>\n",
              "      <td>93+2</td>\n",
              "      <td>93+2</td>\n",
              "      <td>93+2</td>\n",
              "      <td>93+2</td>\n",
              "      <td>93+2</td>\n",
              "      <td>92+2</td>\n",
              "      <td>87+2</td>\n",
              "      <td>87+2</td>\n",
              "      <td>87+2</td>\n",
              "      <td>92+2</td>\n",
              "      <td>68+2</td>\n",
              "      <td>66+2</td>\n",
              "      <td>66+2</td>\n",
              "      <td>66+2</td>\n",
              "      <td>68+2</td>\n",
              "      <td>63+2</td>\n",
              "      <td>52+2</td>\n",
              "      <td>52+2</td>\n",
              "      <td>52+2</td>\n",
              "      <td>63+2</td>\n",
              "    </tr>\n",
              "    <tr>\n",
              "      <th>1</th>\n",
              "      <td>Cristiano Ronaldo</td>\n",
              "      <td>Portugal</td>\n",
              "      <td>Juventus</td>\n",
              "      <td>ST, LW</td>\n",
              "      <td>LW</td>\n",
              "      <td>Right</td>\n",
              "      <td>34</td>\n",
              "      <td>187</td>\n",
              "      <td>83</td>\n",
              "      <td>93</td>\n",
              "      <td>93</td>\n",
              "      <td>58500000</td>\n",
              "      <td>405000</td>\n",
              "      <td>84</td>\n",
              "      <td>94</td>\n",
              "      <td>89</td>\n",
              "      <td>83</td>\n",
              "      <td>87</td>\n",
              "      <td>89</td>\n",
              "      <td>81</td>\n",
              "      <td>76</td>\n",
              "      <td>77</td>\n",
              "      <td>92</td>\n",
              "      <td>89</td>\n",
              "      <td>91</td>\n",
              "      <td>87</td>\n",
              "      <td>96</td>\n",
              "      <td>71</td>\n",
              "      <td>95</td>\n",
              "      <td>95</td>\n",
              "      <td>85</td>\n",
              "      <td>78</td>\n",
              "      <td>93</td>\n",
              "      <td>63</td>\n",
              "      <td>29</td>\n",
              "      <td>95</td>\n",
              "      <td>82</td>\n",
              "      <td>85</td>\n",
              "      <td>95</td>\n",
              "      <td>28</td>\n",
              "      <td>32</td>\n",
              "      <td>24</td>\n",
              "      <td>7</td>\n",
              "      <td>11</td>\n",
              "      <td>15</td>\n",
              "      <td>14</td>\n",
              "      <td>11</td>\n",
              "      <td>91+3</td>\n",
              "      <td>91+3</td>\n",
              "      <td>91+3</td>\n",
              "      <td>89+3</td>\n",
              "      <td>90+3</td>\n",
              "      <td>90+3</td>\n",
              "      <td>90+3</td>\n",
              "      <td>89+3</td>\n",
              "      <td>88+3</td>\n",
              "      <td>88+3</td>\n",
              "      <td>88+3</td>\n",
              "      <td>88+3</td>\n",
              "      <td>81+3</td>\n",
              "      <td>81+3</td>\n",
              "      <td>81+3</td>\n",
              "      <td>88+3</td>\n",
              "      <td>65+3</td>\n",
              "      <td>61+3</td>\n",
              "      <td>61+3</td>\n",
              "      <td>61+3</td>\n",
              "      <td>65+3</td>\n",
              "      <td>61+3</td>\n",
              "      <td>53+3</td>\n",
              "      <td>53+3</td>\n",
              "      <td>53+3</td>\n",
              "      <td>61+3</td>\n",
              "    </tr>\n",
              "    <tr>\n",
              "      <th>2</th>\n",
              "      <td>Neymar Jr</td>\n",
              "      <td>Brazil</td>\n",
              "      <td>Paris Saint-Germain</td>\n",
              "      <td>LW, CAM</td>\n",
              "      <td>CAM</td>\n",
              "      <td>Right</td>\n",
              "      <td>27</td>\n",
              "      <td>175</td>\n",
              "      <td>68</td>\n",
              "      <td>92</td>\n",
              "      <td>92</td>\n",
              "      <td>105500000</td>\n",
              "      <td>290000</td>\n",
              "      <td>87</td>\n",
              "      <td>87</td>\n",
              "      <td>62</td>\n",
              "      <td>87</td>\n",
              "      <td>87</td>\n",
              "      <td>96</td>\n",
              "      <td>88</td>\n",
              "      <td>87</td>\n",
              "      <td>81</td>\n",
              "      <td>95</td>\n",
              "      <td>94</td>\n",
              "      <td>89</td>\n",
              "      <td>96</td>\n",
              "      <td>92</td>\n",
              "      <td>84</td>\n",
              "      <td>80</td>\n",
              "      <td>61</td>\n",
              "      <td>81</td>\n",
              "      <td>49</td>\n",
              "      <td>84</td>\n",
              "      <td>51</td>\n",
              "      <td>36</td>\n",
              "      <td>87</td>\n",
              "      <td>90</td>\n",
              "      <td>90</td>\n",
              "      <td>94</td>\n",
              "      <td>27</td>\n",
              "      <td>26</td>\n",
              "      <td>29</td>\n",
              "      <td>9</td>\n",
              "      <td>9</td>\n",
              "      <td>15</td>\n",
              "      <td>15</td>\n",
              "      <td>11</td>\n",
              "      <td>84+3</td>\n",
              "      <td>84+3</td>\n",
              "      <td>84+3</td>\n",
              "      <td>90+3</td>\n",
              "      <td>89+3</td>\n",
              "      <td>89+3</td>\n",
              "      <td>89+3</td>\n",
              "      <td>90+3</td>\n",
              "      <td>90+3</td>\n",
              "      <td>90+3</td>\n",
              "      <td>90+3</td>\n",
              "      <td>89+3</td>\n",
              "      <td>82+3</td>\n",
              "      <td>82+3</td>\n",
              "      <td>82+3</td>\n",
              "      <td>89+3</td>\n",
              "      <td>66+3</td>\n",
              "      <td>61+3</td>\n",
              "      <td>61+3</td>\n",
              "      <td>61+3</td>\n",
              "      <td>66+3</td>\n",
              "      <td>61+3</td>\n",
              "      <td>46+3</td>\n",
              "      <td>46+3</td>\n",
              "      <td>46+3</td>\n",
              "      <td>61+3</td>\n",
              "    </tr>\n",
              "    <tr>\n",
              "      <th>3</th>\n",
              "      <td>J. Oblak</td>\n",
              "      <td>Slovenia</td>\n",
              "      <td>Atlético Madrid</td>\n",
              "      <td>GK</td>\n",
              "      <td>GK</td>\n",
              "      <td>Right</td>\n",
              "      <td>26</td>\n",
              "      <td>188</td>\n",
              "      <td>87</td>\n",
              "      <td>91</td>\n",
              "      <td>93</td>\n",
              "      <td>77500000</td>\n",
              "      <td>125000</td>\n",
              "      <td>13</td>\n",
              "      <td>11</td>\n",
              "      <td>15</td>\n",
              "      <td>43</td>\n",
              "      <td>13</td>\n",
              "      <td>12</td>\n",
              "      <td>13</td>\n",
              "      <td>14</td>\n",
              "      <td>40</td>\n",
              "      <td>30</td>\n",
              "      <td>43</td>\n",
              "      <td>60</td>\n",
              "      <td>67</td>\n",
              "      <td>88</td>\n",
              "      <td>49</td>\n",
              "      <td>59</td>\n",
              "      <td>78</td>\n",
              "      <td>41</td>\n",
              "      <td>78</td>\n",
              "      <td>12</td>\n",
              "      <td>34</td>\n",
              "      <td>19</td>\n",
              "      <td>11</td>\n",
              "      <td>65</td>\n",
              "      <td>11</td>\n",
              "      <td>68</td>\n",
              "      <td>27</td>\n",
              "      <td>12</td>\n",
              "      <td>18</td>\n",
              "      <td>87</td>\n",
              "      <td>92</td>\n",
              "      <td>78</td>\n",
              "      <td>90</td>\n",
              "      <td>89</td>\n",
              "      <td>NaN</td>\n",
              "      <td>NaN</td>\n",
              "      <td>NaN</td>\n",
              "      <td>NaN</td>\n",
              "      <td>NaN</td>\n",
              "      <td>NaN</td>\n",
              "      <td>NaN</td>\n",
              "      <td>NaN</td>\n",
              "      <td>NaN</td>\n",
              "      <td>NaN</td>\n",
              "      <td>NaN</td>\n",
              "      <td>NaN</td>\n",
              "      <td>NaN</td>\n",
              "      <td>NaN</td>\n",
              "      <td>NaN</td>\n",
              "      <td>NaN</td>\n",
              "      <td>NaN</td>\n",
              "      <td>NaN</td>\n",
              "      <td>NaN</td>\n",
              "      <td>NaN</td>\n",
              "      <td>NaN</td>\n",
              "      <td>NaN</td>\n",
              "      <td>NaN</td>\n",
              "      <td>NaN</td>\n",
              "      <td>NaN</td>\n",
              "      <td>NaN</td>\n",
              "    </tr>\n",
              "    <tr>\n",
              "      <th>4</th>\n",
              "      <td>E. Hazard</td>\n",
              "      <td>Belgium</td>\n",
              "      <td>Real Madrid</td>\n",
              "      <td>LW, CF</td>\n",
              "      <td>LW</td>\n",
              "      <td>Right</td>\n",
              "      <td>28</td>\n",
              "      <td>175</td>\n",
              "      <td>74</td>\n",
              "      <td>91</td>\n",
              "      <td>91</td>\n",
              "      <td>90000000</td>\n",
              "      <td>470000</td>\n",
              "      <td>81</td>\n",
              "      <td>84</td>\n",
              "      <td>61</td>\n",
              "      <td>89</td>\n",
              "      <td>83</td>\n",
              "      <td>95</td>\n",
              "      <td>83</td>\n",
              "      <td>79</td>\n",
              "      <td>83</td>\n",
              "      <td>94</td>\n",
              "      <td>94</td>\n",
              "      <td>88</td>\n",
              "      <td>95</td>\n",
              "      <td>90</td>\n",
              "      <td>94</td>\n",
              "      <td>82</td>\n",
              "      <td>56</td>\n",
              "      <td>84</td>\n",
              "      <td>63</td>\n",
              "      <td>80</td>\n",
              "      <td>54</td>\n",
              "      <td>41</td>\n",
              "      <td>87</td>\n",
              "      <td>89</td>\n",
              "      <td>88</td>\n",
              "      <td>91</td>\n",
              "      <td>34</td>\n",
              "      <td>27</td>\n",
              "      <td>22</td>\n",
              "      <td>11</td>\n",
              "      <td>12</td>\n",
              "      <td>6</td>\n",
              "      <td>8</td>\n",
              "      <td>8</td>\n",
              "      <td>83+3</td>\n",
              "      <td>83+3</td>\n",
              "      <td>83+3</td>\n",
              "      <td>89+3</td>\n",
              "      <td>88+3</td>\n",
              "      <td>88+3</td>\n",
              "      <td>88+3</td>\n",
              "      <td>89+3</td>\n",
              "      <td>89+3</td>\n",
              "      <td>89+3</td>\n",
              "      <td>89+3</td>\n",
              "      <td>89+3</td>\n",
              "      <td>83+3</td>\n",
              "      <td>83+3</td>\n",
              "      <td>83+3</td>\n",
              "      <td>89+3</td>\n",
              "      <td>66+3</td>\n",
              "      <td>63+3</td>\n",
              "      <td>63+3</td>\n",
              "      <td>63+3</td>\n",
              "      <td>66+3</td>\n",
              "      <td>61+3</td>\n",
              "      <td>49+3</td>\n",
              "      <td>49+3</td>\n",
              "      <td>49+3</td>\n",
              "      <td>61+3</td>\n",
              "    </tr>\n",
              "  </tbody>\n",
              "</table>\n",
              "</div>"
            ],
            "text/plain": [
              "          short_name nationality                 club  ...    cb   rcb    rb\n",
              "0           L. Messi   Argentina         FC Barcelona  ...  52+2  52+2  63+2\n",
              "1  Cristiano Ronaldo    Portugal             Juventus  ...  53+3  53+3  61+3\n",
              "2          Neymar Jr      Brazil  Paris Saint-Germain  ...  46+3  46+3  61+3\n",
              "3           J. Oblak    Slovenia      Atlético Madrid  ...   NaN   NaN   NaN\n",
              "4          E. Hazard     Belgium          Real Madrid  ...  49+3  49+3  61+3\n",
              "\n",
              "[5 rows x 73 columns]"
            ]
          },
          "metadata": {
            "tags": []
          },
          "execution_count": 13
        }
      ]
    },
    {
      "cell_type": "markdown",
      "metadata": {
        "id": "Ez7diFQqthWU",
        "colab_type": "text"
      },
      "source": [
        "##### **Transforming Features**"
      ]
    },
    {
      "cell_type": "markdown",
      "metadata": {
        "id": "CLMQh_8Cv0gq",
        "colab_type": "text"
      },
      "source": [
        "Observation with the data: the position score features are strings, instead of numeric values. This is because a score is affixed with +x or -x, indicating the difference from last year's score. Since last year's score is irrelevant in our case, we need to remove these affixes and retain only the numeric score of this year."
      ]
    },
    {
      "cell_type": "code",
      "metadata": {
        "id": "u5g-AITQrvOj",
        "colab_type": "code",
        "colab": {
          "base_uri": "https://localhost:8080/",
          "height": 485
        },
        "outputId": "16c827e4-afe3-4b6a-8449-25424efdeb4c"
      },
      "source": [
        "data[position_score_features].dtypes"
      ],
      "execution_count": 14,
      "outputs": [
        {
          "output_type": "execute_result",
          "data": {
            "text/plain": [
              "ls     object\n",
              "st     object\n",
              "rs     object\n",
              "lw     object\n",
              "lf     object\n",
              "cf     object\n",
              "rf     object\n",
              "rw     object\n",
              "lam    object\n",
              "cam    object\n",
              "ram    object\n",
              "lm     object\n",
              "lcm    object\n",
              "cm     object\n",
              "rcm    object\n",
              "rm     object\n",
              "lwb    object\n",
              "ldm    object\n",
              "cdm    object\n",
              "rdm    object\n",
              "rwb    object\n",
              "lb     object\n",
              "lcb    object\n",
              "cb     object\n",
              "rcb    object\n",
              "rb     object\n",
              "dtype: object"
            ]
          },
          "metadata": {
            "tags": []
          },
          "execution_count": 14
        }
      ]
    },
    {
      "cell_type": "code",
      "metadata": {
        "id": "J3Zk37dOt37E",
        "colab_type": "code",
        "colab": {
          "base_uri": "https://localhost:8080/",
          "height": 202
        },
        "outputId": "0f746786-8771-4ac1-d58d-76d1fc9ff609"
      },
      "source": [
        "# Remove the +x and -x affixes and convert the values into integers\n",
        "for col_name in position_score_features:\n",
        "  data[col_name] = data[col_name].astype('str')\n",
        "  # data[col_name] = data[col_name].fillna('')\n",
        "\n",
        "  data[col_name] = data[col_name].str.replace(r'\\+[0-9]+', '').replace('nan', 0)\n",
        "  data[col_name] = data[col_name].astype('int')\n",
        "\n",
        "data[position_score_features].head()"
      ],
      "execution_count": 15,
      "outputs": [
        {
          "output_type": "execute_result",
          "data": {
            "text/html": [
              "<div>\n",
              "<style scoped>\n",
              "    .dataframe tbody tr th:only-of-type {\n",
              "        vertical-align: middle;\n",
              "    }\n",
              "\n",
              "    .dataframe tbody tr th {\n",
              "        vertical-align: top;\n",
              "    }\n",
              "\n",
              "    .dataframe thead th {\n",
              "        text-align: right;\n",
              "    }\n",
              "</style>\n",
              "<table border=\"1\" class=\"dataframe\">\n",
              "  <thead>\n",
              "    <tr style=\"text-align: right;\">\n",
              "      <th></th>\n",
              "      <th>ls</th>\n",
              "      <th>st</th>\n",
              "      <th>rs</th>\n",
              "      <th>lw</th>\n",
              "      <th>lf</th>\n",
              "      <th>cf</th>\n",
              "      <th>rf</th>\n",
              "      <th>rw</th>\n",
              "      <th>lam</th>\n",
              "      <th>cam</th>\n",
              "      <th>ram</th>\n",
              "      <th>lm</th>\n",
              "      <th>lcm</th>\n",
              "      <th>cm</th>\n",
              "      <th>rcm</th>\n",
              "      <th>rm</th>\n",
              "      <th>lwb</th>\n",
              "      <th>ldm</th>\n",
              "      <th>cdm</th>\n",
              "      <th>rdm</th>\n",
              "      <th>rwb</th>\n",
              "      <th>lb</th>\n",
              "      <th>lcb</th>\n",
              "      <th>cb</th>\n",
              "      <th>rcb</th>\n",
              "      <th>rb</th>\n",
              "    </tr>\n",
              "  </thead>\n",
              "  <tbody>\n",
              "    <tr>\n",
              "      <th>0</th>\n",
              "      <td>89</td>\n",
              "      <td>89</td>\n",
              "      <td>89</td>\n",
              "      <td>93</td>\n",
              "      <td>93</td>\n",
              "      <td>93</td>\n",
              "      <td>93</td>\n",
              "      <td>93</td>\n",
              "      <td>93</td>\n",
              "      <td>93</td>\n",
              "      <td>93</td>\n",
              "      <td>92</td>\n",
              "      <td>87</td>\n",
              "      <td>87</td>\n",
              "      <td>87</td>\n",
              "      <td>92</td>\n",
              "      <td>68</td>\n",
              "      <td>66</td>\n",
              "      <td>66</td>\n",
              "      <td>66</td>\n",
              "      <td>68</td>\n",
              "      <td>63</td>\n",
              "      <td>52</td>\n",
              "      <td>52</td>\n",
              "      <td>52</td>\n",
              "      <td>63</td>\n",
              "    </tr>\n",
              "    <tr>\n",
              "      <th>1</th>\n",
              "      <td>91</td>\n",
              "      <td>91</td>\n",
              "      <td>91</td>\n",
              "      <td>89</td>\n",
              "      <td>90</td>\n",
              "      <td>90</td>\n",
              "      <td>90</td>\n",
              "      <td>89</td>\n",
              "      <td>88</td>\n",
              "      <td>88</td>\n",
              "      <td>88</td>\n",
              "      <td>88</td>\n",
              "      <td>81</td>\n",
              "      <td>81</td>\n",
              "      <td>81</td>\n",
              "      <td>88</td>\n",
              "      <td>65</td>\n",
              "      <td>61</td>\n",
              "      <td>61</td>\n",
              "      <td>61</td>\n",
              "      <td>65</td>\n",
              "      <td>61</td>\n",
              "      <td>53</td>\n",
              "      <td>53</td>\n",
              "      <td>53</td>\n",
              "      <td>61</td>\n",
              "    </tr>\n",
              "    <tr>\n",
              "      <th>2</th>\n",
              "      <td>84</td>\n",
              "      <td>84</td>\n",
              "      <td>84</td>\n",
              "      <td>90</td>\n",
              "      <td>89</td>\n",
              "      <td>89</td>\n",
              "      <td>89</td>\n",
              "      <td>90</td>\n",
              "      <td>90</td>\n",
              "      <td>90</td>\n",
              "      <td>90</td>\n",
              "      <td>89</td>\n",
              "      <td>82</td>\n",
              "      <td>82</td>\n",
              "      <td>82</td>\n",
              "      <td>89</td>\n",
              "      <td>66</td>\n",
              "      <td>61</td>\n",
              "      <td>61</td>\n",
              "      <td>61</td>\n",
              "      <td>66</td>\n",
              "      <td>61</td>\n",
              "      <td>46</td>\n",
              "      <td>46</td>\n",
              "      <td>46</td>\n",
              "      <td>61</td>\n",
              "    </tr>\n",
              "    <tr>\n",
              "      <th>3</th>\n",
              "      <td>0</td>\n",
              "      <td>0</td>\n",
              "      <td>0</td>\n",
              "      <td>0</td>\n",
              "      <td>0</td>\n",
              "      <td>0</td>\n",
              "      <td>0</td>\n",
              "      <td>0</td>\n",
              "      <td>0</td>\n",
              "      <td>0</td>\n",
              "      <td>0</td>\n",
              "      <td>0</td>\n",
              "      <td>0</td>\n",
              "      <td>0</td>\n",
              "      <td>0</td>\n",
              "      <td>0</td>\n",
              "      <td>0</td>\n",
              "      <td>0</td>\n",
              "      <td>0</td>\n",
              "      <td>0</td>\n",
              "      <td>0</td>\n",
              "      <td>0</td>\n",
              "      <td>0</td>\n",
              "      <td>0</td>\n",
              "      <td>0</td>\n",
              "      <td>0</td>\n",
              "    </tr>\n",
              "    <tr>\n",
              "      <th>4</th>\n",
              "      <td>83</td>\n",
              "      <td>83</td>\n",
              "      <td>83</td>\n",
              "      <td>89</td>\n",
              "      <td>88</td>\n",
              "      <td>88</td>\n",
              "      <td>88</td>\n",
              "      <td>89</td>\n",
              "      <td>89</td>\n",
              "      <td>89</td>\n",
              "      <td>89</td>\n",
              "      <td>89</td>\n",
              "      <td>83</td>\n",
              "      <td>83</td>\n",
              "      <td>83</td>\n",
              "      <td>89</td>\n",
              "      <td>66</td>\n",
              "      <td>63</td>\n",
              "      <td>63</td>\n",
              "      <td>63</td>\n",
              "      <td>66</td>\n",
              "      <td>61</td>\n",
              "      <td>49</td>\n",
              "      <td>49</td>\n",
              "      <td>49</td>\n",
              "      <td>61</td>\n",
              "    </tr>\n",
              "  </tbody>\n",
              "</table>\n",
              "</div>"
            ],
            "text/plain": [
              "   ls  st  rs  lw  lf  cf  rf  rw  ...  cdm  rdm  rwb  lb  lcb  cb  rcb  rb\n",
              "0  89  89  89  93  93  93  93  93  ...   66   66   68  63   52  52   52  63\n",
              "1  91  91  91  89  90  90  90  89  ...   61   61   65  61   53  53   53  61\n",
              "2  84  84  84  90  89  89  89  90  ...   61   61   66  61   46  46   46  61\n",
              "3   0   0   0   0   0   0   0   0  ...    0    0    0   0    0   0    0   0\n",
              "4  83  83  83  89  88  88  88  89  ...   63   63   66  61   49  49   49  61\n",
              "\n",
              "[5 rows x 26 columns]"
            ]
          },
          "metadata": {
            "tags": []
          },
          "execution_count": 15
        }
      ]
    },
    {
      "cell_type": "markdown",
      "metadata": {
        "id": "Cr7DCSaMaMDo",
        "colab_type": "text"
      },
      "source": [
        "Now let's take a look at the data type of the other numeric features. We'll use unique() to confirm if there are varying numeric types."
      ]
    },
    {
      "cell_type": "code",
      "metadata": {
        "id": "eA4Tfb_qZ5b8",
        "colab_type": "code",
        "colab": {
          "base_uri": "https://localhost:8080/",
          "height": 35
        },
        "outputId": "3ddf08af-8077-4ed3-874f-3d10c6f0ab59"
      },
      "source": [
        "data[numeric_features + attacking_features + skill_features + movement_features + power_features\n",
        "          + mentality_features + defending_features + goalkeeping_features].dtypes.unique()"
      ],
      "execution_count": 16,
      "outputs": [
        {
          "output_type": "execute_result",
          "data": {
            "text/plain": [
              "array([dtype('int64')], dtype=object)"
            ]
          },
          "metadata": {
            "tags": []
          },
          "execution_count": 16
        }
      ]
    },
    {
      "cell_type": "markdown",
      "metadata": {
        "id": "rknNvIrVbRND",
        "colab_type": "text"
      },
      "source": [
        "Using our knowledge of the dataset, we can infer that the features for *movement*, *power*, *mentality*, *defending*, and *goalkeeping*, *overall*, and *potential* are integer scores from 0 to 100. The other numeric features, such as *age*, *height_cm*, *weight_cm*, *value_eur*, and *wage_eur* are also integers but with varying ranges and magnitudes (i.e., *age* is a value from 16-42, while *value_eur* is a value from 0 to 105.5 billion). If we were to build a machine learning model that utlizes these numeric features of varying magnitudes, then we will need to scale the features using some scaling method. But in this case, we're just interested in visualizing these features, so we will not be scaling anything here at least. Also, the exact euro value and wage of players might be useful for us when we want to know who is the most valuable and the highest-paying player."
      ]
    },
    {
      "cell_type": "code",
      "metadata": {
        "id": "wNDPfXWLbE3Q",
        "colab_type": "code",
        "colab": {
          "base_uri": "https://localhost:8080/",
          "height": 294
        },
        "outputId": "c3d7dbb8-aa05-4f9a-aa2c-39ef479acbbe"
      },
      "source": [
        "data[numeric_features].describe()"
      ],
      "execution_count": 17,
      "outputs": [
        {
          "output_type": "execute_result",
          "data": {
            "text/html": [
              "<div>\n",
              "<style scoped>\n",
              "    .dataframe tbody tr th:only-of-type {\n",
              "        vertical-align: middle;\n",
              "    }\n",
              "\n",
              "    .dataframe tbody tr th {\n",
              "        vertical-align: top;\n",
              "    }\n",
              "\n",
              "    .dataframe thead th {\n",
              "        text-align: right;\n",
              "    }\n",
              "</style>\n",
              "<table border=\"1\" class=\"dataframe\">\n",
              "  <thead>\n",
              "    <tr style=\"text-align: right;\">\n",
              "      <th></th>\n",
              "      <th>age</th>\n",
              "      <th>height_cm</th>\n",
              "      <th>weight_kg</th>\n",
              "      <th>overall</th>\n",
              "      <th>potential</th>\n",
              "      <th>value_eur</th>\n",
              "      <th>wage_eur</th>\n",
              "    </tr>\n",
              "  </thead>\n",
              "  <tbody>\n",
              "    <tr>\n",
              "      <th>count</th>\n",
              "      <td>18278.000000</td>\n",
              "      <td>18278.000000</td>\n",
              "      <td>18278.000000</td>\n",
              "      <td>18278.000000</td>\n",
              "      <td>18278.000000</td>\n",
              "      <td>1.827800e+04</td>\n",
              "      <td>18278.000000</td>\n",
              "    </tr>\n",
              "    <tr>\n",
              "      <th>mean</th>\n",
              "      <td>25.283291</td>\n",
              "      <td>181.362184</td>\n",
              "      <td>75.276343</td>\n",
              "      <td>66.244994</td>\n",
              "      <td>71.546887</td>\n",
              "      <td>2.484038e+06</td>\n",
              "      <td>9456.942773</td>\n",
              "    </tr>\n",
              "    <tr>\n",
              "      <th>std</th>\n",
              "      <td>4.656964</td>\n",
              "      <td>6.756961</td>\n",
              "      <td>7.047744</td>\n",
              "      <td>6.949953</td>\n",
              "      <td>6.139669</td>\n",
              "      <td>5.585481e+06</td>\n",
              "      <td>21351.714095</td>\n",
              "    </tr>\n",
              "    <tr>\n",
              "      <th>min</th>\n",
              "      <td>16.000000</td>\n",
              "      <td>156.000000</td>\n",
              "      <td>50.000000</td>\n",
              "      <td>48.000000</td>\n",
              "      <td>49.000000</td>\n",
              "      <td>0.000000e+00</td>\n",
              "      <td>0.000000</td>\n",
              "    </tr>\n",
              "    <tr>\n",
              "      <th>25%</th>\n",
              "      <td>22.000000</td>\n",
              "      <td>177.000000</td>\n",
              "      <td>70.000000</td>\n",
              "      <td>62.000000</td>\n",
              "      <td>67.000000</td>\n",
              "      <td>3.250000e+05</td>\n",
              "      <td>1000.000000</td>\n",
              "    </tr>\n",
              "    <tr>\n",
              "      <th>50%</th>\n",
              "      <td>25.000000</td>\n",
              "      <td>181.000000</td>\n",
              "      <td>75.000000</td>\n",
              "      <td>66.000000</td>\n",
              "      <td>71.000000</td>\n",
              "      <td>7.000000e+05</td>\n",
              "      <td>3000.000000</td>\n",
              "    </tr>\n",
              "    <tr>\n",
              "      <th>75%</th>\n",
              "      <td>29.000000</td>\n",
              "      <td>186.000000</td>\n",
              "      <td>80.000000</td>\n",
              "      <td>71.000000</td>\n",
              "      <td>75.000000</td>\n",
              "      <td>2.100000e+06</td>\n",
              "      <td>8000.000000</td>\n",
              "    </tr>\n",
              "    <tr>\n",
              "      <th>max</th>\n",
              "      <td>42.000000</td>\n",
              "      <td>205.000000</td>\n",
              "      <td>110.000000</td>\n",
              "      <td>94.000000</td>\n",
              "      <td>95.000000</td>\n",
              "      <td>1.055000e+08</td>\n",
              "      <td>565000.000000</td>\n",
              "    </tr>\n",
              "  </tbody>\n",
              "</table>\n",
              "</div>"
            ],
            "text/plain": [
              "                age     height_cm  ...     value_eur       wage_eur\n",
              "count  18278.000000  18278.000000  ...  1.827800e+04   18278.000000\n",
              "mean      25.283291    181.362184  ...  2.484038e+06    9456.942773\n",
              "std        4.656964      6.756961  ...  5.585481e+06   21351.714095\n",
              "min       16.000000    156.000000  ...  0.000000e+00       0.000000\n",
              "25%       22.000000    177.000000  ...  3.250000e+05    1000.000000\n",
              "50%       25.000000    181.000000  ...  7.000000e+05    3000.000000\n",
              "75%       29.000000    186.000000  ...  2.100000e+06    8000.000000\n",
              "max       42.000000    205.000000  ...  1.055000e+08  565000.000000\n",
              "\n",
              "[8 rows x 7 columns]"
            ]
          },
          "metadata": {
            "tags": []
          },
          "execution_count": 17
        }
      ]
    },
    {
      "cell_type": "markdown",
      "metadata": {
        "id": "0XDk1M5Th-Oc",
        "colab_type": "text"
      },
      "source": [
        "### **Nationality**"
      ]
    },
    {
      "cell_type": "code",
      "metadata": {
        "id": "tassybiuA-PO",
        "colab_type": "code",
        "colab": {
          "base_uri": "https://localhost:8080/",
          "height": 35
        },
        "outputId": "08cac220-a197-4e16-bcdd-ab4272c22e45"
      },
      "source": [
        "len(data['nationality'].unique())"
      ],
      "execution_count": 20,
      "outputs": [
        {
          "output_type": "execute_result",
          "data": {
            "text/plain": [
              "162"
            ]
          },
          "metadata": {
            "tags": []
          },
          "execution_count": 20
        }
      ]
    },
    {
      "cell_type": "code",
      "metadata": {
        "id": "EO4XEEdQh8No",
        "colab_type": "code",
        "colab": {}
      },
      "source": [
        "count_per_nation = data[['short_name', 'nationality']].groupby(['nationality']).agg(count=('nationality', 'count')).sort_values(by=['count'], ascending=False)"
      ],
      "execution_count": 21,
      "outputs": []
    },
    {
      "cell_type": "code",
      "metadata": {
        "id": "bmqzJOsViWvx",
        "colab_type": "code",
        "colab": {
          "base_uri": "https://localhost:8080/",
          "height": 355
        },
        "outputId": "772282f7-1e11-4504-a995-c90c2a5fa01c"
      },
      "source": [
        "# Get the top 10 countries with the most FIFA players\n",
        "top_nations_player_cnt = count_per_nation.iloc[0:10].reset_index()\n",
        "top_nations_player_cnt"
      ],
      "execution_count": 22,
      "outputs": [
        {
          "output_type": "execute_result",
          "data": {
            "text/html": [
              "<div>\n",
              "<style scoped>\n",
              "    .dataframe tbody tr th:only-of-type {\n",
              "        vertical-align: middle;\n",
              "    }\n",
              "\n",
              "    .dataframe tbody tr th {\n",
              "        vertical-align: top;\n",
              "    }\n",
              "\n",
              "    .dataframe thead th {\n",
              "        text-align: right;\n",
              "    }\n",
              "</style>\n",
              "<table border=\"1\" class=\"dataframe\">\n",
              "  <thead>\n",
              "    <tr style=\"text-align: right;\">\n",
              "      <th></th>\n",
              "      <th>nationality</th>\n",
              "      <th>count</th>\n",
              "    </tr>\n",
              "  </thead>\n",
              "  <tbody>\n",
              "    <tr>\n",
              "      <th>0</th>\n",
              "      <td>England</td>\n",
              "      <td>1667</td>\n",
              "    </tr>\n",
              "    <tr>\n",
              "      <th>1</th>\n",
              "      <td>Germany</td>\n",
              "      <td>1216</td>\n",
              "    </tr>\n",
              "    <tr>\n",
              "      <th>2</th>\n",
              "      <td>Spain</td>\n",
              "      <td>1035</td>\n",
              "    </tr>\n",
              "    <tr>\n",
              "      <th>3</th>\n",
              "      <td>France</td>\n",
              "      <td>984</td>\n",
              "    </tr>\n",
              "    <tr>\n",
              "      <th>4</th>\n",
              "      <td>Argentina</td>\n",
              "      <td>886</td>\n",
              "    </tr>\n",
              "    <tr>\n",
              "      <th>5</th>\n",
              "      <td>Brazil</td>\n",
              "      <td>824</td>\n",
              "    </tr>\n",
              "    <tr>\n",
              "      <th>6</th>\n",
              "      <td>Italy</td>\n",
              "      <td>732</td>\n",
              "    </tr>\n",
              "    <tr>\n",
              "      <th>7</th>\n",
              "      <td>Colombia</td>\n",
              "      <td>591</td>\n",
              "    </tr>\n",
              "    <tr>\n",
              "      <th>8</th>\n",
              "      <td>Japan</td>\n",
              "      <td>453</td>\n",
              "    </tr>\n",
              "    <tr>\n",
              "      <th>9</th>\n",
              "      <td>Netherlands</td>\n",
              "      <td>416</td>\n",
              "    </tr>\n",
              "  </tbody>\n",
              "</table>\n",
              "</div>"
            ],
            "text/plain": [
              "   nationality  count\n",
              "0      England   1667\n",
              "1      Germany   1216\n",
              "2        Spain   1035\n",
              "3       France    984\n",
              "4    Argentina    886\n",
              "5       Brazil    824\n",
              "6        Italy    732\n",
              "7     Colombia    591\n",
              "8        Japan    453\n",
              "9  Netherlands    416"
            ]
          },
          "metadata": {
            "tags": []
          },
          "execution_count": 22
        }
      ]
    },
    {
      "cell_type": "code",
      "metadata": {
        "id": "ce_r6KlbigSq",
        "colab_type": "code",
        "colab": {
          "base_uri": "https://localhost:8080/",
          "height": 420
        },
        "outputId": "56108e8e-2c65-435b-af95-cb6c14294761"
      },
      "source": [
        "sns.set(style='whitegrid')\n",
        "\n",
        "sns.catplot('nationality', 'count', data=top_nations_player_cnt, kind='bar', aspect=2, height=5)\n",
        "\n",
        "plt.xticks(rotation=30, size=12)\n",
        "plt.yticks(size=12)\n",
        "plt.xlabel('Nationality', size=13)\n",
        "plt.ylabel('Number of Players', size=13)\n",
        "plt.title('Top 10 Nations with the most FIFA 2020 Players', size=14)\n",
        "plt.show()"
      ],
      "execution_count": 23,
      "outputs": [
        {
          "output_type": "display_data",
          "data": {
            "image/png": "[encoded data removed]",
            "text/plain": [
              "<Figure size 720x360 with 1 Axes>"
            ]
          },
          "metadata": {
            "tags": []
          }
        }
      ]
    },
    {
      "cell_type": "markdown",
      "metadata": {
        "id": "jhXlsXUztCNi",
        "colab_type": "text"
      },
      "source": [
        "##### **Overall Score by Nationality**"
      ]
    },
    {
      "cell_type": "code",
      "metadata": {
        "id": "9n7HXBGntVH3",
        "colab_type": "code",
        "colab": {}
      },
      "source": [
        "# Get average overall score of players by Nationality\n",
        "mean_overall_by_nationality = data[['overall', 'nationality']].groupby('nationality').mean().reset_index()"
      ],
      "execution_count": 24,
      "outputs": []
    },
    {
      "cell_type": "code",
      "metadata": {
        "id": "Z3XqSRWn_CrS",
        "colab_type": "code",
        "colab": {}
      },
      "source": [
        "def plot_overall_by_nationality(df):\n",
        "  sns.set(style='whitegrid')\n",
        "\n",
        "  sns.catplot('nationality', 'overall', data=df, kind='bar', aspect=3, height=5)\n",
        "  plt.xticks(rotation=30, size=13)\n",
        "  plt.yticks([])\n",
        "  plt.xlabel('Nationality', size=13)\n",
        "  plt.ylabel('Overall', size=13)\n",
        "  plt.title('Comparison of 12 Nationalities by Average Overall Score ', size=14)\n",
        "\n",
        "  for i, p in enumerate(df['overall'].values.tolist()):\n",
        "    plt.text(i, round(p)-5, str(round(p)), verticalalignment='center', horizontalalignment='center', fontsize=13)\n",
        "\n",
        "  sns.despine(left=True)\n",
        "\n",
        "  plt.show()"
      ],
      "execution_count": 25,
      "outputs": []
    },
    {
      "cell_type": "code",
      "metadata": {
        "id": "55z5gqap1UpA",
        "colab_type": "code",
        "colab": {
          "base_uri": "https://localhost:8080/",
          "height": 445
        },
        "outputId": "38d3da14-0950-41ac-874a-d39269168932"
      },
      "source": [
        "sample_overall_nationalities = mean_overall_by_nationality.sort_values(by=['overall'], ascending=False).sample(n=12)\n",
        "\n",
        "plot_overall_by_nationality(sample_overall_nationalities)"
      ],
      "execution_count": 26,
      "outputs": [
        {
          "output_type": "display_data",
          "data": {
            "image/png": "[encoded data removed]",
            "text/plain": [
              "<Figure size 1080x360 with 1 Axes>"
            ]
          },
          "metadata": {
            "tags": []
          }
        }
      ]
    },
    {
      "cell_type": "code",
      "metadata": {
        "id": "mshZgM7K-tM-",
        "colab_type": "code",
        "colab": {
          "base_uri": "https://localhost:8080/",
          "height": 425
        },
        "outputId": "40213af5-0310-458a-a4cb-cad480369304"
      },
      "source": [
        "top_overall_nationalities = mean_overall_by_nationality.sort_values(by=['overall'], ascending=False)[:12]\n",
        "\n",
        "plot_overall_by_nationality(top_overall_nationalities)"
      ],
      "execution_count": 27,
      "outputs": [
        {
          "output_type": "display_data",
          "data": {
            "image/png": "[encoded data removed]",
            "text/plain": [
              "<Figure size 1080x360 with 1 Axes>"
            ]
          },
          "metadata": {
            "tags": []
          }
        }
      ]
    },
    {
      "cell_type": "markdown",
      "metadata": {
        "id": "Lueg7-vjEcDq",
        "colab_type": "text"
      },
      "source": [
        "### **Age**"
      ]
    },
    {
      "cell_type": "markdown",
      "metadata": {
        "id": "rJd1upOiE_ik",
        "colab_type": "text"
      },
      "source": [
        "Youngest players in the world"
      ]
    },
    {
      "cell_type": "code",
      "metadata": {
        "id": "Wtej4yCXtNTO",
        "colab_type": "code",
        "colab": {
          "base_uri": "https://localhost:8080/",
          "height": 417
        },
        "outputId": "279cfb4d-c06a-4140-dd89-f59b51cf2860"
      },
      "source": [
        "youngest_players = data.loc[data['age'] == data['age'].min()]\n",
        "youngest_players[['short_name', 'age', 'nationality', 'club']].sort_values(by=['short_name'])"
      ],
      "execution_count": 63,
      "outputs": [
        {
          "output_type": "execute_result",
          "data": {
            "text/html": [
              "<div>\n",
              "<style scoped>\n",
              "    .dataframe tbody tr th:only-of-type {\n",
              "        vertical-align: middle;\n",
              "    }\n",
              "\n",
              "    .dataframe tbody tr th {\n",
              "        vertical-align: top;\n",
              "    }\n",
              "\n",
              "    .dataframe thead th {\n",
              "        text-align: right;\n",
              "    }\n",
              "</style>\n",
              "<table border=\"1\" class=\"dataframe\">\n",
              "  <thead>\n",
              "    <tr style=\"text-align: right;\">\n",
              "      <th></th>\n",
              "      <th>short_name</th>\n",
              "      <th>age</th>\n",
              "      <th>nationality</th>\n",
              "      <th>club</th>\n",
              "    </tr>\n",
              "  </thead>\n",
              "  <tbody>\n",
              "    <tr>\n",
              "      <th>4764</th>\n",
              "      <td>A. Hložek</td>\n",
              "      <td>16</td>\n",
              "      <td>Czech Republic</td>\n",
              "      <td>Sparta Praha</td>\n",
              "    </tr>\n",
              "    <tr>\n",
              "      <th>14626</th>\n",
              "      <td>A. Velasco</td>\n",
              "      <td>16</td>\n",
              "      <td>Argentina</td>\n",
              "      <td>Independiente</td>\n",
              "    </tr>\n",
              "    <tr>\n",
              "      <th>17827</th>\n",
              "      <td>D. Burns</td>\n",
              "      <td>16</td>\n",
              "      <td>Northern Ireland</td>\n",
              "      <td>St. Patrick's Athletic</td>\n",
              "    </tr>\n",
              "    <tr>\n",
              "      <th>17614</th>\n",
              "      <td>D. Obbekjær</td>\n",
              "      <td>16</td>\n",
              "      <td>Denmark</td>\n",
              "      <td>Odense Boldklub</td>\n",
              "    </tr>\n",
              "    <tr>\n",
              "      <th>12158</th>\n",
              "      <td>E. Millot</td>\n",
              "      <td>16</td>\n",
              "      <td>France</td>\n",
              "      <td>AS Monaco</td>\n",
              "    </tr>\n",
              "    <tr>\n",
              "      <th>18243</th>\n",
              "      <td>E. Sartorius</td>\n",
              "      <td>16</td>\n",
              "      <td>England</td>\n",
              "      <td>Lincoln City</td>\n",
              "    </tr>\n",
              "    <tr>\n",
              "      <th>6630</th>\n",
              "      <td>Fábio Silva</td>\n",
              "      <td>16</td>\n",
              "      <td>Portugal</td>\n",
              "      <td>FC Porto</td>\n",
              "    </tr>\n",
              "    <tr>\n",
              "      <th>18171</th>\n",
              "      <td>J. Starbuck</td>\n",
              "      <td>16</td>\n",
              "      <td>England</td>\n",
              "      <td>Grimsby Town</td>\n",
              "    </tr>\n",
              "    <tr>\n",
              "      <th>18031</th>\n",
              "      <td>O. Stefánsson</td>\n",
              "      <td>16</td>\n",
              "      <td>Iceland</td>\n",
              "      <td>IFK Norrköping</td>\n",
              "    </tr>\n",
              "    <tr>\n",
              "      <th>18242</th>\n",
              "      <td>R. Wikberg</td>\n",
              "      <td>16</td>\n",
              "      <td>Sweden</td>\n",
              "      <td>Östersunds FK</td>\n",
              "    </tr>\n",
              "    <tr>\n",
              "      <th>17782</th>\n",
              "      <td>S. Anderson</td>\n",
              "      <td>16</td>\n",
              "      <td>United States</td>\n",
              "      <td>Colorado Rapids</td>\n",
              "    </tr>\n",
              "    <tr>\n",
              "      <th>12160</th>\n",
              "      <td>S. Esposito</td>\n",
              "      <td>16</td>\n",
              "      <td>Italy</td>\n",
              "      <td>Inter</td>\n",
              "    </tr>\n",
              "  </tbody>\n",
              "</table>\n",
              "</div>"
            ],
            "text/plain": [
              "          short_name  age       nationality                    club\n",
              "4764       A. Hložek   16    Czech Republic            Sparta Praha\n",
              "14626     A. Velasco   16         Argentina           Independiente\n",
              "17827       D. Burns   16  Northern Ireland  St. Patrick's Athletic\n",
              "17614    D. Obbekjær   16           Denmark         Odense Boldklub\n",
              "12158      E. Millot   16            France               AS Monaco\n",
              "18243   E. Sartorius   16           England            Lincoln City\n",
              "6630     Fábio Silva   16          Portugal                FC Porto\n",
              "18171    J. Starbuck   16           England            Grimsby Town\n",
              "18031  O. Stefánsson   16           Iceland          IFK Norrköping\n",
              "18242     R. Wikberg   16            Sweden           Östersunds FK\n",
              "17782    S. Anderson   16     United States         Colorado Rapids\n",
              "12160    S. Esposito   16             Italy                   Inter"
            ]
          },
          "metadata": {
            "tags": []
          },
          "execution_count": 63
        }
      ]
    },
    {
      "cell_type": "markdown",
      "metadata": {
        "id": "wnZou-LxFD7P",
        "colab_type": "text"
      },
      "source": [
        "Youngest players by club"
      ]
    },
    {
      "cell_type": "code",
      "metadata": {
        "id": "EG9GvcRTHTC3",
        "colab_type": "code",
        "colab": {}
      },
      "source": [
        "group_by_club = data.groupby('club')"
      ],
      "execution_count": 44,
      "outputs": []
    },
    {
      "cell_type": "code",
      "metadata": {
        "id": "mc3e2WybE0HR",
        "colab_type": "code",
        "colab": {
          "base_uri": "https://localhost:8080/",
          "height": 233
        },
        "outputId": "e78abcae-1b56-4cf1-a4f9-642a7282466e"
      },
      "source": [
        "youngest = group_by_club.agg(youngest_age=('age', 'min'))\n",
        "youngest.sort_values(by=['youngest_age'], ascending=True, inplace=True)\n",
        "\n",
        "youngest.head()"
      ],
      "execution_count": 66,
      "outputs": [
        {
          "output_type": "execute_result",
          "data": {
            "text/html": [
              "<div>\n",
              "<style scoped>\n",
              "    .dataframe tbody tr th:only-of-type {\n",
              "        vertical-align: middle;\n",
              "    }\n",
              "\n",
              "    .dataframe tbody tr th {\n",
              "        vertical-align: top;\n",
              "    }\n",
              "\n",
              "    .dataframe thead th {\n",
              "        text-align: right;\n",
              "    }\n",
              "</style>\n",
              "<table border=\"1\" class=\"dataframe\">\n",
              "  <thead>\n",
              "    <tr style=\"text-align: right;\">\n",
              "      <th></th>\n",
              "      <th>youngest_age</th>\n",
              "    </tr>\n",
              "    <tr>\n",
              "      <th>club</th>\n",
              "      <th></th>\n",
              "    </tr>\n",
              "  </thead>\n",
              "  <tbody>\n",
              "    <tr>\n",
              "      <th>Lincoln City</th>\n",
              "      <td>16</td>\n",
              "    </tr>\n",
              "    <tr>\n",
              "      <th>Independiente</th>\n",
              "      <td>16</td>\n",
              "    </tr>\n",
              "    <tr>\n",
              "      <th>IFK Norrköping</th>\n",
              "      <td>16</td>\n",
              "    </tr>\n",
              "    <tr>\n",
              "      <th>Grimsby Town</th>\n",
              "      <td>16</td>\n",
              "    </tr>\n",
              "    <tr>\n",
              "      <th>St. Patrick's Athletic</th>\n",
              "      <td>16</td>\n",
              "    </tr>\n",
              "  </tbody>\n",
              "</table>\n",
              "</div>"
            ],
            "text/plain": [
              "                        youngest_age\n",
              "club                                \n",
              "Lincoln City                      16\n",
              "Independiente                     16\n",
              "IFK Norrköping                    16\n",
              "Grimsby Town                      16\n",
              "St. Patrick's Athletic            16"
            ]
          },
          "metadata": {
            "tags": []
          },
          "execution_count": 66
        }
      ]
    },
    {
      "cell_type": "markdown",
      "metadata": {
        "id": "n6zfswcvLK7_",
        "colab_type": "text"
      },
      "source": [
        "Oldest players by club"
      ]
    },
    {
      "cell_type": "code",
      "metadata": {
        "id": "P-IGsD-QJNer",
        "colab_type": "code",
        "colab": {}
      },
      "source": [
        ""
      ],
      "execution_count": null,
      "outputs": []
    }
  ]
}