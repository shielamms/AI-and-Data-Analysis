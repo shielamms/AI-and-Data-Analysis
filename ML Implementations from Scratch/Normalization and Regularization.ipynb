{
 "cells": [
  {
   "cell_type": "markdown",
   "metadata": {},
   "source": [
    "# Rescaling Columns through Normalization and Regularization"
   ]
  },
  {
   "cell_type": "markdown",
   "metadata": {},
   "source": [
    "This example will use the pima-indians-diabetes dataset. The next three code blocks are only for reading the CSV file from scratch."
   ]
  },
  {
   "cell_type": "code",
   "execution_count": 43,
   "metadata": {},
   "outputs": [],
   "source": [
    "from csv import reader"
   ]
  },
  {
   "cell_type": "code",
   "execution_count": 44,
   "metadata": {},
   "outputs": [],
   "source": [
    "def load_csv(filename):\n",
    "    dataset = list()\n",
    "    \n",
    "    with open(filename, 'r') as file:\n",
    "        csv_reader = reader(file)\n",
    "        \n",
    "        for row in csv_reader:\n",
    "            if not row:\n",
    "                continue\n",
    "            \n",
    "            dataset.append(row)\n",
    "    \n",
    "    return dataset\n",
    "\n",
    "def convert_col_to_float(dataset, col):\n",
    "    for row in dataset:\n",
    "        row[col] = float(row[col].strip())"
   ]
  },
  {
   "cell_type": "code",
   "execution_count": 45,
   "metadata": {},
   "outputs": [],
   "source": [
    "filename = 'data/pima-indians-diabetes.data.csv'\n",
    "dataset = load_csv(filename)"
   ]
  },
  {
   "cell_type": "markdown",
   "metadata": {},
   "source": [
    "### Min-Max Normalization"
   ]
  },
  {
   "cell_type": "markdown",
   "metadata": {},
   "source": [
    "Normalization means scaling values between 0 and 1. The most common method is called 'min-max', where we get the minimum and maximum values for each column/attribute in the dataset. We can then use the following formula to rescale each value:\n",
    "\n",
    "```\n",
    "scaled_value = (value - minumum) / (maximum - minimum)\n",
    "```"
   ]
  },
  {
   "cell_type": "markdown",
   "metadata": {},
   "source": [
    "Let's take a look at this example:"
   ]
  },
  {
   "cell_type": "code",
   "execution_count": 46,
   "metadata": {},
   "outputs": [
    {
     "data": {
      "text/plain": [
       "[[6.0, 148.0, 72.0, 35.0, 0.0, 33.6, 0.627, 50.0, 1.0],\n",
       " [1.0, 85.0, 66.0, 29.0, 0.0, 26.6, 0.351, 31.0, 0.0],\n",
       " [8.0, 183.0, 64.0, 0.0, 0.0, 23.3, 0.672, 32.0, 1.0],\n",
       " [1.0, 89.0, 66.0, 23.0, 94.0, 28.1, 0.167, 21.0, 0.0]]"
      ]
     },
     "execution_count": 46,
     "metadata": {},
     "output_type": "execute_result"
    }
   ],
   "source": [
    "for col in range(len(dataset[0])):\n",
    "    convert_col_to_float(dataset, col)\n",
    "    \n",
    "dataset[:4]"
   ]
  },
  {
   "cell_type": "markdown",
   "metadata": {},
   "source": [
    "We'll get the minimum and maximum values of the first column (6.0, 1.0, 8.0, 1.0, ...), then the second column (148.0, 85.0, 183.0, 89.0, ...), etc. The function below cthen returns a 2-dimensional list containing the minimum and maximum values of each column."
   ]
  },
  {
   "cell_type": "code",
   "execution_count": 47,
   "metadata": {},
   "outputs": [],
   "source": [
    "def get_min_max(dataset):\n",
    "    min_max_values = list()\n",
    "    \n",
    "    for col in range(len(dataset[0])):\n",
    "        col_values = [row[col] for row in dataset]\n",
    "        \n",
    "        minimum = min(col_values)\n",
    "        maximum = max(col_values)\n",
    "        \n",
    "        min_max_values.append([minimum, maximum])\n",
    "        \n",
    "    return min_max_values"
   ]
  },
  {
   "cell_type": "code",
   "execution_count": 48,
   "metadata": {},
   "outputs": [
    {
     "name": "stdout",
     "output_type": "stream",
     "text": [
      "Output shape:  9 2\n"
     ]
    }
   ],
   "source": [
    "min_max_values = get_min_max(dataset)\n",
    "\n",
    "print('Output shape: ', len(min_max_values), len(min_max_values[0]))"
   ]
  },
  {
   "cell_type": "markdown",
   "metadata": {},
   "source": [
    "The dataset contains 9 columns, so the output list contains 9 items, each item contains a list of 2 values: the min and max."
   ]
  },
  {
   "cell_type": "code",
   "execution_count": 49,
   "metadata": {},
   "outputs": [
    {
     "data": {
      "text/plain": [
       "[[0.0, 17.0], [0.0, 199.0], [0.0, 122.0], [0.0, 99.0]]"
      ]
     },
     "execution_count": 49,
     "metadata": {},
     "output_type": "execute_result"
    }
   ],
   "source": [
    "min_max_values[:4]"
   ]
  },
  {
   "cell_type": "markdown",
   "metadata": {},
   "source": [
    "Now that we know the min and max of each column, we can then use the formula to rescale each value in each column:\n",
    "```\n",
    "scaled_value = (value - minumum) / (maximum - minimum)\n",
    "\n",
    "```"
   ]
  },
  {
   "cell_type": "code",
   "execution_count": 50,
   "metadata": {},
   "outputs": [],
   "source": [
    "def normalize(dataset, min_max_values):\n",
    "    for col in range(len(dataset[0])):\n",
    "        for row in range(len(dataset)):\n",
    "            dataset[row][col] = (dataset[row][col] - min_max_values[col][0]) / (min_max_values[col][1] - min_max_values[col][0])"
   ]
  },
  {
   "cell_type": "code",
   "execution_count": 51,
   "metadata": {},
   "outputs": [],
   "source": [
    "normalize(dataset, min_max_values)"
   ]
  },
  {
   "cell_type": "markdown",
   "metadata": {},
   "source": [
    "All the data are now rescaled into values from 0 and 1."
   ]
  },
  {
   "cell_type": "code",
   "execution_count": 54,
   "metadata": {},
   "outputs": [
    {
     "name": "stdout",
     "output_type": "stream",
     "text": [
      "[0.35294117647058826, 0.7437185929648241, 0.5901639344262295, 0.35353535353535354, 0.0, 0.5007451564828614, 0.23441502988898377, 0.48333333333333334, 1.0]\n"
     ]
    }
   ],
   "source": [
    "print(dataset[0])"
   ]
  },
  {
   "cell_type": "markdown",
   "metadata": {},
   "source": [
    "### Standardization"
   ]
  },
  {
   "cell_type": "markdown",
   "metadata": {},
   "source": [
    "Standardization means rescaling the data such that it has a mean of 0 and a standard deviation of 1. We only use regularization if we know that our data is normally distributed. We'll use the same dataset for this example. To perform standardization, we first calculate the mean and standard deviation of the columns/attributes we want to rescale. Then, each value can be rescaled by the following formula:\n",
    "\n",
    "```\n",
    "scaled_value = (value - mean) / standard_deviation\n",
    "```"
   ]
  },
  {
   "cell_type": "code",
   "execution_count": 40,
   "metadata": {},
   "outputs": [],
   "source": [
    "from math import sqrt"
   ]
  },
  {
   "cell_type": "code",
   "execution_count": 41,
   "metadata": {},
   "outputs": [
    {
     "data": {
      "text/plain": [
       "[[6.0, 148.0, 72.0, 35.0, 0.0, 33.6, 0.627, 50.0, 1.0],\n",
       " [1.0, 85.0, 66.0, 29.0, 0.0, 26.6, 0.351, 31.0, 0.0],\n",
       " [8.0, 183.0, 64.0, 0.0, 0.0, 23.3, 0.672, 32.0, 1.0],\n",
       " [1.0, 89.0, 66.0, 23.0, 94.0, 28.1, 0.167, 21.0, 0.0]]"
      ]
     },
     "execution_count": 41,
     "metadata": {},
     "output_type": "execute_result"
    }
   ],
   "source": [
    "filename = 'data/pima-indians-diabetes.data.csv'\n",
    "dataset = load_csv(filename)\n",
    "\n",
    "for col in range(len(dataset[0])):\n",
    "    convert_col_to_float(dataset, col)\n",
    "    \n",
    "dataset[:4]"
   ]
  },
  {
   "cell_type": "markdown",
   "metadata": {},
   "source": [
    "First, we define a function to get the mean of each column."
   ]
  },
  {
   "cell_type": "code",
   "execution_count": 34,
   "metadata": {},
   "outputs": [],
   "source": [
    "def get_col_means(dataset):\n",
    "    col_means = list()\n",
    "    \n",
    "    for col in range(len(dataset[0])):\n",
    "        col_items = [row[col] for row in dataset]\n",
    "        \n",
    "        col_mean = sum(col_items) / len(col_items)\n",
    "        \n",
    "        col_means.append(col_mean)\n",
    "        \n",
    "    return col_means"
   ]
  },
  {
   "cell_type": "markdown",
   "metadata": {},
   "source": [
    "Then, we define a function to compute the standard deviation of each column. The standard deviation is computed as:\n",
    "```\n",
    "variance = sum((value - mean)^2)\n",
    "standard deviation = square_root( variance / (count(values) - 1) )\n",
    "```"
   ]
  },
  {
   "cell_type": "code",
   "execution_count": 35,
   "metadata": {},
   "outputs": [],
   "source": [
    "def get_col_std_devs(dataset, col_means):\n",
    "    col_std_devs = [0 for col in range(len(dataset[0]))]\n",
    "    \n",
    "    for col in range(len(dataset[0])):\n",
    "        variance = sum([pow(row[col] - col_means[col], 2) for row in dataset])\n",
    "        \n",
    "        col_std_devs[col] = sqrt(variance / float(len(dataset) - 1))\n",
    "        \n",
    "    return col_std_devs"
   ]
  },
  {
   "cell_type": "code",
   "execution_count": 36,
   "metadata": {},
   "outputs": [],
   "source": [
    "col_means = get_col_means(dataset)\n",
    "std_devs = get_col_std_devs(dataset, col_means)"
   ]
  },
  {
   "cell_type": "markdown",
   "metadata": {},
   "source": [
    "After obtaining the means and standard deviations, we can then rescale the values of each column using the formula with defined above:\n",
    "```\n",
    "scaled_value = (value - mean) / standard_deviation\n",
    "```"
   ]
  },
  {
   "cell_type": "code",
   "execution_count": 37,
   "metadata": {},
   "outputs": [],
   "source": [
    "def standardize(dataset, col_means, std_devs):\n",
    "    for col in range(len(dataset[0])):\n",
    "        for row in range(len(dataset)):\n",
    "            dataset[row][col] = (dataset[row][col] - col_means[col]) / std_devs[col]"
   ]
  },
  {
   "cell_type": "code",
   "execution_count": 38,
   "metadata": {},
   "outputs": [],
   "source": [
    "standardize(dataset, col_means, std_devs)"
   ]
  },
  {
   "cell_type": "code",
   "execution_count": 39,
   "metadata": {},
   "outputs": [
    {
     "name": "stdout",
     "output_type": "stream",
     "text": [
      "[0.6395304921176576, 0.8477713205896718, 0.14954329852954296, 0.9066790623472505, -0.692439324724129, 0.2038799072674717, 0.468186870229798, 1.4250667195933604, 1.3650063669598067]\n"
     ]
    }
   ],
   "source": [
    "print(dataset[0])"
   ]
  }
 ],
 "metadata": {
  "kernelspec": {
   "display_name": "Python 3",
   "language": "python",
   "name": "python3"
  },
  "language_info": {
   "codemirror_mode": {
    "name": "ipython",
    "version": 3
   },
   "file_extension": ".py",
   "mimetype": "text/x-python",
   "name": "python",
   "nbconvert_exporter": "python",
   "pygments_lexer": "ipython3",
   "version": "3.7.4"
  }
 },
 "nbformat": 4,
 "nbformat_minor": 2
}
