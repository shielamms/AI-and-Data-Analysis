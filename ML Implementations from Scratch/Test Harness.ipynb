{
 "cells": [
  {
   "cell_type": "markdown",
   "metadata": {},
   "source": [
    "## Creating a Test Harness"
   ]
  },
  {
   "cell_type": "code",
   "execution_count": 1,
   "metadata": {},
   "outputs": [],
   "source": [
    "# 1. Function to load CSV\n",
    "from csv import reader\n",
    "\n",
    "def load_csv(filename):\n",
    "    dataset = list()\n",
    "    \n",
    "    with open(filename, 'r') as file:\n",
    "        csv_reader = reader(file)\n",
    "        \n",
    "        for row in csv_reader:\n",
    "            if not row:\n",
    "                continue\n",
    "            \n",
    "            dataset.append(row)\n",
    "    return dataset"
   ]
  },
  {
   "cell_type": "code",
   "execution_count": 2,
   "metadata": {},
   "outputs": [],
   "source": [
    "# 2. Convert string columns to float\n",
    "def convert_to_float(dataset, column):\n",
    "    for row in dataset:\n",
    "        row[column] = float(row[column])"
   ]
  },
  {
   "cell_type": "code",
   "execution_count": 3,
   "metadata": {},
   "outputs": [],
   "source": [
    "# 3. Split into train and test\n",
    "from random import randrange\n",
    "\n",
    "def train_test_split(dataset, split):\n",
    "    train_set = list()\n",
    "    train_size = split * len(dataset)\n",
    "    test_set = list(dataset)\n",
    "    \n",
    "    while len(train_set) < train_size:\n",
    "        rand_index = randrange(len(test_set))\n",
    "        \n",
    "        train_set.append(test_set.pop(rand_index))\n",
    "        \n",
    "    return train_set, test_set"
   ]
  },
  {
   "cell_type": "code",
   "execution_count": 16,
   "metadata": {},
   "outputs": [],
   "source": [
    "# 4. Accuracy metric\n",
    "def accuracy_metric(actual, predicted):\n",
    "    correct = 0\n",
    "    \n",
    "    for i in range(len(actual)):\n",
    "        if actual[i] == predicted[i]:\n",
    "            correct += 1\n",
    "            \n",
    "    return correct / float(len(actual)) * 100.0"
   ]
  },
  {
   "cell_type": "code",
   "execution_count": 14,
   "metadata": {},
   "outputs": [],
   "source": [
    "# 5. Baseline prediction algorithm\n",
    "def zero_rule_algo_classification(train, test):\n",
    "    train_outputs = [row[-1] for row in train]\n",
    "    \n",
    "    prediction = max(set(train_outputs), key=train_outputs.count)\n",
    "    predicted = [prediction for i in range(len(test))]\n",
    "    \n",
    "    return predicted"
   ]
  },
  {
   "cell_type": "code",
   "execution_count": 28,
   "metadata": {},
   "outputs": [],
   "source": [
    "# 5. Evaluation function\n",
    "def evaluate_model(dataset, algorithm, split, *args):\n",
    "    train, test = train_test_split(dataset, split)\n",
    "    test_actual = [row[-1] for row in test]\n",
    "    \n",
    "    # Remove the actual col in test\n",
    "    test_set = list()\n",
    "    \n",
    "    for row in test:\n",
    "        row_copy = list(row)\n",
    "        row_copy[-1] = None\n",
    "        test_set.append(row_copy)\n",
    "        \n",
    "    predicted = algorithm(train, test_set, *args)\n",
    "    \n",
    "    accuracy = accuracy_metric(test_actual, predicted)\n",
    "    \n",
    "    return accuracy"
   ]
  },
  {
   "cell_type": "code",
   "execution_count": 35,
   "metadata": {},
   "outputs": [
    {
     "data": {
      "text/plain": [
       "[['6', '148', '72', '35', '0', '33.6', '0.627', '50', '1'],\n",
       " ['1', '85', '66', '29', '0', '26.6', '0.351', '31', '0'],\n",
       " ['8', '183', '64', '0', '0', '23.3', '0.672', '32', '1'],\n",
       " ['1', '89', '66', '23', '94', '28.1', '0.167', '21', '0'],\n",
       " ['0', '137', '40', '35', '168', '43.1', '2.288', '33', '1']]"
      ]
     },
     "execution_count": 35,
     "metadata": {},
     "output_type": "execute_result"
    }
   ],
   "source": [
    "from random import seed\n",
    "\n",
    "seed(1)\n",
    "\n",
    "filename = 'data/pima-indians-diabetes.data.csv'\n",
    "dataset = load_csv(filename)\n",
    "\n",
    "dataset[:5]"
   ]
  },
  {
   "cell_type": "code",
   "execution_count": 36,
   "metadata": {},
   "outputs": [],
   "source": [
    "for col in range(len(dataset[0])):\n",
    "    convert_to_float(dataset, col)"
   ]
  },
  {
   "cell_type": "code",
   "execution_count": 37,
   "metadata": {},
   "outputs": [
    {
     "data": {
      "text/plain": [
       "[[6.0, 148.0, 72.0, 35.0, 0.0, 33.6, 0.627, 50.0, 1.0],\n",
       " [1.0, 85.0, 66.0, 29.0, 0.0, 26.6, 0.351, 31.0, 0.0],\n",
       " [8.0, 183.0, 64.0, 0.0, 0.0, 23.3, 0.672, 32.0, 1.0],\n",
       " [1.0, 89.0, 66.0, 23.0, 94.0, 28.1, 0.167, 21.0, 0.0],\n",
       " [0.0, 137.0, 40.0, 35.0, 168.0, 43.1, 2.288, 33.0, 1.0]]"
      ]
     },
     "execution_count": 37,
     "metadata": {},
     "output_type": "execute_result"
    }
   ],
   "source": [
    "dataset[:5]"
   ]
  },
  {
   "cell_type": "code",
   "execution_count": 38,
   "metadata": {},
   "outputs": [
    {
     "name": "stdout",
     "output_type": "stream",
     "text": [
      "Accuracy: 68.696%\n"
     ]
    }
   ],
   "source": [
    "split = 0.7\n",
    "\n",
    "accuracy = evaluate_model(dataset, zero_rule_algo_classification, split)\n",
    "\n",
    "print('Accuracy: %.3f%%' % accuracy)"
   ]
  },
  {
   "cell_type": "code",
   "execution_count": null,
   "metadata": {},
   "outputs": [],
   "source": []
  }
 ],
 "metadata": {
  "kernelspec": {
   "display_name": "Python 3",
   "language": "python",
   "name": "python3"
  },
  "language_info": {
   "codemirror_mode": {
    "name": "ipython",
    "version": 3
   },
   "file_extension": ".py",
   "mimetype": "text/x-python",
   "name": "python",
   "nbconvert_exporter": "python",
   "pygments_lexer": "ipython3",
   "version": "3.7.4"
  }
 },
 "nbformat": 4,
 "nbformat_minor": 2
}
