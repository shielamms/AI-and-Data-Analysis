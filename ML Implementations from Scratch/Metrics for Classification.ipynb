{
 "cells": [
  {
   "cell_type": "markdown",
   "metadata": {},
   "source": [
    "# Confusion Matrix"
   ]
  },
  {
   "cell_type": "code",
   "execution_count": 4,
   "metadata": {},
   "outputs": [],
   "source": [
    "def confusion_matrix(actual, predicted):\n",
    "    unique_values = set(actual)\n",
    "    matrix = [list() for i in range(len(unique_values))]\n",
    "    \n",
    "    for i in range(len(unique_values)):\n",
    "        matrix[i] = [0 for j in range(len(unique_values))]\n",
    "    \n",
    "    # Create a dictionary to look up the matrix index using a unique value\n",
    "    value_index_lookup = dict()\n",
    "    \n",
    "    for i, val in enumerate(unique_values):\n",
    "        value_index_lookup[val] = i\n",
    "        \n",
    "    for i in range(len(actual)):\n",
    "        x = value_index_lookup[actual[i]]\n",
    "        y = value_index_lookup[predicted[i]]\n",
    "        matrix[y][x] += 1\n",
    "        \n",
    "    return unique_values, matrix"
   ]
  },
  {
   "cell_type": "code",
   "execution_count": 8,
   "metadata": {},
   "outputs": [],
   "source": [
    "actual = [0,0,0,1,1,1,1,1,1,1]\n",
    "predicted = [1,0,0,0,0,1,1,1,0,0]"
   ]
  },
  {
   "cell_type": "code",
   "execution_count": 9,
   "metadata": {},
   "outputs": [],
   "source": [
    "unique_values, matrix = confusion_matrix(actual, predicted)"
   ]
  },
  {
   "cell_type": "code",
   "execution_count": 10,
   "metadata": {},
   "outputs": [
    {
     "name": "stdout",
     "output_type": "stream",
     "text": [
      "{0, 1}\n",
      "[[2, 4], [1, 3]]\n"
     ]
    }
   ],
   "source": [
    "print(unique_values)\n",
    "print(matrix)"
   ]
  },
  {
   "cell_type": "markdown",
   "metadata": {},
   "source": [
    "## Accuracy"
   ]
  },
  {
   "cell_type": "code",
   "execution_count": 1,
   "metadata": {},
   "outputs": [],
   "source": [
    "def accuracy(actual, predicted):\n",
    "    correct = 0\n",
    "    \n",
    "    for i in range(len(actual)):\n",
    "        if actual[i] == predicted[i]:\n",
    "            correct += 1\n",
    "            \n",
    "    return correct / float(len(actual)) * 100.0"
   ]
  },
  {
   "cell_type": "code",
   "execution_count": 2,
   "metadata": {},
   "outputs": [],
   "source": [
    "actual = [0,0,0,1,1,1,1,1,1,1]\n",
    "predicted = [1,0,0,0,0,1,1,1,0,0]"
   ]
  },
  {
   "cell_type": "code",
   "execution_count": 3,
   "metadata": {},
   "outputs": [
    {
     "name": "stdout",
     "output_type": "stream",
     "text": [
      "Accuracy: 50.0\n"
     ]
    }
   ],
   "source": [
    "print('Accuracy: {}'.format(accuracy(actual, predicted)))"
   ]
  }
 ],
 "metadata": {
  "kernelspec": {
   "display_name": "Python 3",
   "language": "python",
   "name": "python3"
  },
  "language_info": {
   "codemirror_mode": {
    "name": "ipython",
    "version": 3
   },
   "file_extension": ".py",
   "mimetype": "text/x-python",
   "name": "python",
   "nbconvert_exporter": "python",
   "pygments_lexer": "ipython3",
   "version": "3.7.4"
  }
 },
 "nbformat": 4,
 "nbformat_minor": 2
}
