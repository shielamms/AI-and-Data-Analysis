{
 "cells": [
  {
   "cell_type": "markdown",
   "metadata": {},
   "source": [
    "# Resampling Methods"
   ]
  },
  {
   "cell_type": "markdown",
   "metadata": {},
   "source": [
    "Resampling methods are techniques to partition the dataset to obtain representative data for training and testing. Normally, we allocate a larger portion of the data for training, and then leave out the smaller portion for validation or testing to check whether our ML model is performing well on data it hasn't seen yet."
   ]
  },
  {
   "cell_type": "markdown",
   "metadata": {},
   "source": [
    "### k-fold Cross Validation"
   ]
  },
  {
   "cell_type": "markdown",
   "metadata": {},
   "source": [
    "The way k-fold cross validation works is splitting the dataset into k partitions and performing train-test split k times, each time using a different partition as the test set. This way, the model is trained each time with a different training set and tested on a different test set. The overall performance of the model is the average of its peformance on each round.\n",
    "\n",
    "For example, if k=3, and our dataset is partitioned into the following:\n",
    "partitions = {A, B, C}\n",
    "\n",
    "Perform train-test split k times:\n",
    "```\n",
    "k     Train     Test\n",
    "1     A,B       C\n",
    "2     B,C       A\n",
    "3     A,C       B\n",
    "```"
   ]
  },
  {
   "cell_type": "code",
   "execution_count": 8,
   "metadata": {},
   "outputs": [],
   "source": [
    "from random import randrange\n",
    "\n",
    "def cross_validation_split(dataset, k_folds=3):\n",
    "    fold_size = int(len(dataset) / k_folds)\n",
    "    dataset_copy = list(dataset)\n",
    "    dataset_split = list()\n",
    "    \n",
    "    for i in range(k_folds):\n",
    "        fold = list()\n",
    "        \n",
    "        while len(fold) < fold_size:\n",
    "            random_index = randrange(len(dataset_copy))\n",
    "            \n",
    "            fold.append(dataset_copy.pop(random_index))\n",
    "        \n",
    "        dataset_split.append(fold)\n",
    "        \n",
    "    return dataset_split"
   ]
  },
  {
   "cell_type": "code",
   "execution_count": 9,
   "metadata": {},
   "outputs": [],
   "source": [
    "from csv import reader\n",
    "\n",
    "def load_csv(filename):\n",
    "    dataset = list()\n",
    "    \n",
    "    with open(filename, 'r') as file:\n",
    "        csv_reader = reader(file)\n",
    "        \n",
    "        for row in csv_reader:\n",
    "            if not row:\n",
    "                continue\n",
    "            \n",
    "            dataset.append(row)\n",
    "    \n",
    "    return dataset"
   ]
  },
  {
   "cell_type": "code",
   "execution_count": 10,
   "metadata": {},
   "outputs": [],
   "source": [
    "filename = 'data/pima-indians-diabetes.data.csv'\n",
    "dataset = load_csv(filename)"
   ]
  },
  {
   "cell_type": "code",
   "execution_count": 11,
   "metadata": {},
   "outputs": [
    {
     "data": {
      "text/plain": [
       "[['6', '148', '72', '35', '0', '33.6', '0.627', '50', '1'],\n",
       " ['1', '85', '66', '29', '0', '26.6', '0.351', '31', '0'],\n",
       " ['8', '183', '64', '0', '0', '23.3', '0.672', '32', '1'],\n",
       " ['1', '89', '66', '23', '94', '28.1', '0.167', '21', '0']]"
      ]
     },
     "execution_count": 11,
     "metadata": {},
     "output_type": "execute_result"
    }
   ],
   "source": [
    "dataset[:4]"
   ]
  },
  {
   "cell_type": "code",
   "execution_count": 12,
   "metadata": {},
   "outputs": [
    {
     "data": {
      "text/plain": [
       "768"
      ]
     },
     "execution_count": 12,
     "metadata": {},
     "output_type": "execute_result"
    }
   ],
   "source": [
    "len(dataset)"
   ]
  },
  {
   "cell_type": "code",
   "execution_count": 13,
   "metadata": {},
   "outputs": [],
   "source": [
    "dataset_folds = cross_validation_split(dataset, 4)"
   ]
  },
  {
   "cell_type": "markdown",
   "metadata": {},
   "source": [
    "The function returns the \"folds\" or the dataset partitions."
   ]
  },
  {
   "cell_type": "code",
   "execution_count": 14,
   "metadata": {},
   "outputs": [
    {
     "data": {
      "text/plain": [
       "4"
      ]
     },
     "execution_count": 14,
     "metadata": {},
     "output_type": "execute_result"
    }
   ],
   "source": [
    "len(dataset_folds)"
   ]
  },
  {
   "cell_type": "markdown",
   "metadata": {},
   "source": [
    "### Train-Test Split"
   ]
  },
  {
   "cell_type": "code",
   "execution_count": 1,
   "metadata": {},
   "outputs": [],
   "source": [
    "from random import randrange\n",
    "\n",
    "def train_test_split(dataset, split):\n",
    "    train_set = list()\n",
    "    train_size = split * len(dataset)\n",
    "    test_set = list(dataset)\n",
    "    \n",
    "    while len(train_set) < train_size:\n",
    "        rand_index = randrange(len(test_set))\n",
    "        \n",
    "        train_set.append(test_set.pop(rand_index))\n",
    "        \n",
    "    return train_set, test_set"
   ]
  },
  {
   "cell_type": "code",
   "execution_count": 2,
   "metadata": {},
   "outputs": [
    {
     "name": "stdout",
     "output_type": "stream",
     "text": [
      "[8, 9, 6, 3, 10, 4, 5]\n",
      "[1, 2, 7]\n"
     ]
    }
   ],
   "source": [
    "dataset = [1,2,3,4,5,6,7,8,9,10]\n",
    "train, test =  train_test_split(dataset, 0.7)\n",
    "print(train)\n",
    "print(test)"
   ]
  },
  {
   "cell_type": "code",
   "execution_count": 4,
   "metadata": {},
   "outputs": [
    {
     "name": "stdout",
     "output_type": "stream",
     "text": [
      "[[8, 8], [1, 1], [2, 2], [4, 4], [9, 9], [5, 5], [6, 6], [3, 3]]\n",
      "[[7, 7], [10, 10]]\n"
     ]
    }
   ],
   "source": [
    "dataset = [[1,1],[2,2],[3,3],[4,4],[5,5],[6,6],[7,7],[8,8],[9,9],[10,10]]\n",
    "train, test =  train_test_split(dataset, 0.8)\n",
    "print(train)\n",
    "print(test)"
   ]
  },
  {
   "cell_type": "code",
   "execution_count": null,
   "metadata": {},
   "outputs": [],
   "source": []
  }
 ],
 "metadata": {
  "kernelspec": {
   "display_name": "Python 3",
   "language": "python",
   "name": "python3"
  },
  "language_info": {
   "codemirror_mode": {
    "name": "ipython",
    "version": 3
   },
   "file_extension": ".py",
   "mimetype": "text/x-python",
   "name": "python",
   "nbconvert_exporter": "python",
   "pygments_lexer": "ipython3",
   "version": "3.7.4"
  }
 },
 "nbformat": 4,
 "nbformat_minor": 2
}
