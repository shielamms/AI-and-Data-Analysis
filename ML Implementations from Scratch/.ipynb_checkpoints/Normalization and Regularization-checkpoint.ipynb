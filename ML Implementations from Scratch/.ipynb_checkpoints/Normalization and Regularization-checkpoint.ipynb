{
 "cells": [
  {
   "cell_type": "code",
   "execution_count": 1,
   "metadata": {},
   "outputs": [],
   "source": [
    "from csv import reader"
   ]
  },
  {
   "cell_type": "code",
   "execution_count": 2,
   "metadata": {},
   "outputs": [],
   "source": [
    "def load_csv(filename):\n",
    "    dataset = list()\n",
    "    \n",
    "    with open(filename, 'r') as file:\n",
    "        csv_reader = reader(file)\n",
    "        \n",
    "        for row in csv_reader:\n",
    "            if not row:\n",
    "                continue\n",
    "            \n",
    "            dataset.append(row)\n",
    "    \n",
    "    return dataset\n",
    "\n",
    "def convert_col_to_float(dataset, col):\n",
    "    for row in dataset:\n",
    "        row[col] = float(row[col].strip())"
   ]
  },
  {
   "cell_type": "code",
   "execution_count": 3,
   "metadata": {},
   "outputs": [],
   "source": [
    "filename = 'data/pima-indians-diabetes.data.csv'\n",
    "dataset = load_csv(filename)"
   ]
  },
  {
   "cell_type": "markdown",
   "metadata": {},
   "source": [
    "### Normalization"
   ]
  },
  {
   "cell_type": "code",
   "execution_count": 4,
   "metadata": {},
   "outputs": [
    {
     "data": {
      "text/plain": [
       "[['6', '148', '72', '35', '0', '33.6', '0.627', '50', '1'],\n",
       " ['1', '85', '66', '29', '0', '26.6', '0.351', '31', '0'],\n",
       " ['8', '183', '64', '0', '0', '23.3', '0.672', '32', '1'],\n",
       " ['1', '89', '66', '23', '94', '28.1', '0.167', '21', '0']]"
      ]
     },
     "execution_count": 4,
     "metadata": {},
     "output_type": "execute_result"
    }
   ],
   "source": [
    "dataset[:4]"
   ]
  },
  {
   "cell_type": "code",
   "execution_count": 5,
   "metadata": {},
   "outputs": [],
   "source": [
    "for col in range(len(dataset[0])):\n",
    "    convert_col_to_float(dataset, col)"
   ]
  },
  {
   "cell_type": "code",
   "execution_count": 6,
   "metadata": {},
   "outputs": [
    {
     "data": {
      "text/plain": [
       "[[6.0, 148.0, 72.0, 35.0, 0.0, 33.6, 0.627, 50.0, 1.0],\n",
       " [1.0, 85.0, 66.0, 29.0, 0.0, 26.6, 0.351, 31.0, 0.0],\n",
       " [8.0, 183.0, 64.0, 0.0, 0.0, 23.3, 0.672, 32.0, 1.0],\n",
       " [1.0, 89.0, 66.0, 23.0, 94.0, 28.1, 0.167, 21.0, 0.0]]"
      ]
     },
     "execution_count": 6,
     "metadata": {},
     "output_type": "execute_result"
    }
   ],
   "source": [
    "dataset[:4]"
   ]
  },
  {
   "cell_type": "code",
   "execution_count": 7,
   "metadata": {},
   "outputs": [],
   "source": [
    "def get_min_max(dataset):\n",
    "    min_max_values = list()\n",
    "    \n",
    "    for col in range(len(dataset[0])):\n",
    "        col_values = [row[col] for row in dataset]\n",
    "        \n",
    "        minimum = min(col_values)\n",
    "        maximum = max(col_values)\n",
    "        \n",
    "        min_max_values.append([minimum, maximum])\n",
    "        \n",
    "    return min_max_values"
   ]
  },
  {
   "cell_type": "code",
   "execution_count": 8,
   "metadata": {},
   "outputs": [
    {
     "data": {
      "text/plain": [
       "[[0.0, 17.0], [0.0, 199.0], [0.0, 122.0], [0.0, 99.0]]"
      ]
     },
     "execution_count": 8,
     "metadata": {},
     "output_type": "execute_result"
    }
   ],
   "source": [
    "min_max_values = get_min_max(dataset)\n",
    "min_max_values[:4]"
   ]
  },
  {
   "cell_type": "code",
   "execution_count": 9,
   "metadata": {},
   "outputs": [],
   "source": [
    "def normalize(dataset, min_max_values):\n",
    "    for col in range(len(dataset[0])):\n",
    "        for row in range(len(dataset)):\n",
    "            dataset[row][col] = (dataset[row][col] - min_max_values[col][0]) / (min_max_values[col][1] - min_max_values[col][0])"
   ]
  },
  {
   "cell_type": "code",
   "execution_count": 10,
   "metadata": {},
   "outputs": [],
   "source": [
    "normalize(dataset, min_max_values)"
   ]
  },
  {
   "cell_type": "code",
   "execution_count": 11,
   "metadata": {},
   "outputs": [
    {
     "data": {
      "text/plain": [
       "[0.35294117647058826,\n",
       " 0.7437185929648241,\n",
       " 0.5901639344262295,\n",
       " 0.35353535353535354,\n",
       " 0.0,\n",
       " 0.5007451564828614,\n",
       " 0.23441502988898377,\n",
       " 0.48333333333333334,\n",
       " 1.0]"
      ]
     },
     "execution_count": 11,
     "metadata": {},
     "output_type": "execute_result"
    }
   ],
   "source": [
    "dataset[0]"
   ]
  },
  {
   "cell_type": "markdown",
   "metadata": {},
   "source": [
    "### Standardization"
   ]
  },
  {
   "cell_type": "code",
   "execution_count": 12,
   "metadata": {},
   "outputs": [],
   "source": [
    "from math import sqrt"
   ]
  },
  {
   "cell_type": "code",
   "execution_count": 13,
   "metadata": {},
   "outputs": [
    {
     "data": {
      "text/plain": [
       "[6.0, 148.0, 72.0, 35.0, 0.0, 33.6, 0.627, 50.0, 1.0]"
      ]
     },
     "execution_count": 13,
     "metadata": {},
     "output_type": "execute_result"
    }
   ],
   "source": [
    "filename = 'data/pima-indians-diabetes.data.csv'\n",
    "dataset = load_csv(filename)\n",
    "\n",
    "for col in range(len(dataset[0])):\n",
    "    convert_col_to_float(dataset, col)\n",
    "    \n",
    "dataset[0]"
   ]
  },
  {
   "cell_type": "code",
   "execution_count": 14,
   "metadata": {},
   "outputs": [],
   "source": [
    "def get_col_means(dataset):\n",
    "    col_means = list()\n",
    "    \n",
    "    for col in range(len(dataset[0])):\n",
    "        col_items = [row[col] for row in dataset]\n",
    "        \n",
    "        col_mean = sum(col_items) / len(col_items)\n",
    "        \n",
    "        col_means.append(col_mean)\n",
    "        \n",
    "    return col_means"
   ]
  },
  {
   "cell_type": "code",
   "execution_count": 15,
   "metadata": {},
   "outputs": [],
   "source": [
    "def get_col_std_devs(dataset, col_means):\n",
    "    col_std_devs = [0 for col in range(len(dataset[0]))]\n",
    "    \n",
    "    for col in range(len(dataset[0])):\n",
    "        variance = sum([pow(row[col] - col_means[col], 2) for row in dataset])\n",
    "        \n",
    "        col_std_devs[col] = sqrt(variance / float(len(dataset) - 1))\n",
    "        \n",
    "    return col_std_devs"
   ]
  },
  {
   "cell_type": "code",
   "execution_count": 16,
   "metadata": {},
   "outputs": [],
   "source": [
    "col_means = get_col_means(dataset)\n",
    "std_devs = get_col_std_devs(dataset, col_means)"
   ]
  },
  {
   "cell_type": "code",
   "execution_count": 17,
   "metadata": {},
   "outputs": [],
   "source": [
    "def standardize(dataset, col_means, std_devs):\n",
    "    for col in range(len(dataset[0])):\n",
    "        for row in range(len(dataset)):\n",
    "            dataset[row][col] = (dataset[row][col] - col_means[col]) / std_devs[col]"
   ]
  },
  {
   "cell_type": "code",
   "execution_count": 18,
   "metadata": {},
   "outputs": [],
   "source": [
    "standardize(dataset, col_means, std_devs)"
   ]
  },
  {
   "cell_type": "code",
   "execution_count": 19,
   "metadata": {},
   "outputs": [
    {
     "name": "stdout",
     "output_type": "stream",
     "text": [
      "[0.6395304921176576, 0.8477713205896718, 0.14954329852954296, 0.9066790623472505, -0.692439324724129, 0.2038799072674717, 0.468186870229798, 1.4250667195933604, 1.3650063669598067]\n"
     ]
    }
   ],
   "source": [
    "print(dataset[0])"
   ]
  },
  {
   "cell_type": "code",
   "execution_count": null,
   "metadata": {},
   "outputs": [],
   "source": []
  }
 ],
 "metadata": {
  "kernelspec": {
   "display_name": "Python 3",
   "language": "python",
   "name": "python3"
  },
  "language_info": {
   "codemirror_mode": {
    "name": "ipython",
    "version": 3
   },
   "file_extension": ".py",
   "mimetype": "text/x-python",
   "name": "python",
   "nbconvert_exporter": "python",
   "pygments_lexer": "ipython3",
   "version": "3.7.4"
  }
 },
 "nbformat": 4,
 "nbformat_minor": 2
}
